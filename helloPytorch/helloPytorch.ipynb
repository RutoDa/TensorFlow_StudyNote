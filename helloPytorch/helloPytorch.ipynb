{
 "cells": [
  {
   "cell_type": "code",
   "execution_count": 3,
   "metadata": {
    "collapsed": true,
    "ExecuteTime": {
     "end_time": "2023-07-04T07:33:17.469749Z",
     "start_time": "2023-07-04T07:33:17.467755800Z"
    }
   },
   "outputs": [],
   "source": [
    "import torch\n",
    "import numpy as np"
   ]
  },
  {
   "cell_type": "code",
   "execution_count": 2,
   "outputs": [
    {
     "name": "stdout",
     "output_type": "stream",
     "text": [
      "Tensor array: \n",
      "\n",
      " tensor([[1, 2, 3],\n",
      "        [4, 5, 6],\n",
      "        [7, 8, 9]])\n"
     ]
    }
   ],
   "source": [
    "torch_array = torch.tensor([[1,2,3],[4,5,6],[7,8,9]])\n",
    "print(\"Tensor array: \\n\\n\",torch_array)"
   ],
   "metadata": {
    "collapsed": false,
    "ExecuteTime": {
     "end_time": "2023-07-04T07:33:09.886540700Z",
     "start_time": "2023-07-04T07:33:09.881535700Z"
    }
   }
  },
  {
   "cell_type": "code",
   "execution_count": 4,
   "outputs": [
    {
     "name": "stdout",
     "output_type": "stream",
     "text": [
      "\n",
      " Numpy array: \n",
      "\n",
      " [[1 2 3]\n",
      " [4 5 6]\n",
      " [7 8 9]]\n"
     ]
    }
   ],
   "source": [
    "numpy_array = np.array([[1,2,3],[4,5,6],[7,8,9]])\n",
    "print(\"\\n Numpy array: \\n\\n\",numpy_array)"
   ],
   "metadata": {
    "collapsed": false,
    "ExecuteTime": {
     "end_time": "2023-07-04T07:33:28.612341600Z",
     "start_time": "2023-07-04T07:33:28.608346100Z"
    }
   }
  },
  {
   "cell_type": "code",
   "execution_count": 5,
   "outputs": [
    {
     "name": "stdout",
     "output_type": "stream",
     "text": [
      "Random matrix with NumPy: \n",
      "\n",
      "[[0.54666442 0.04904794 0.8338621 ]\n",
      " [0.06702629 0.87335808 0.23094912]\n",
      " [0.5675891  0.78143265 0.60974314]] \n",
      "\n",
      "(3, 3)\n"
     ]
    }
   ],
   "source": [
    "np_rand = np.random.rand(3,3)\n",
    "print(\"Random matrix with NumPy: \\n\")\n",
    "print(np_rand,\"\\n\")\n",
    "print(np_rand.shape)"
   ],
   "metadata": {
    "collapsed": false,
    "ExecuteTime": {
     "end_time": "2023-07-04T07:34:30.610066300Z",
     "start_time": "2023-07-04T07:34:30.607064700Z"
    }
   }
  },
  {
   "cell_type": "code",
   "execution_count": 6,
   "outputs": [
    {
     "name": "stdout",
     "output_type": "stream",
     "text": [
      "\n",
      " Random matrix with Pytorch: \n",
      "\n",
      "tensor([[0.9264, 0.2677, 0.2993],\n",
      "        [0.3693, 0.3436, 0.3849],\n",
      "        [0.7147, 0.4014, 0.8760]]) \n",
      "\n",
      "torch.Size([3, 3])\n"
     ]
    }
   ],
   "source": [
    "torch_rand = torch.rand(3,3)\n",
    "print(\"\\n Random matrix with Pytorch: \\n\")\n",
    "print(torch_rand,\"\\n\")\n",
    "print(torch_rand.shape)"
   ],
   "metadata": {
    "collapsed": false,
    "ExecuteTime": {
     "end_time": "2023-07-04T07:34:40.039466900Z",
     "start_time": "2023-07-04T07:34:40.013442900Z"
    }
   }
  },
  {
   "cell_type": "code",
   "execution_count": 7,
   "outputs": [
    {
     "name": "stdout",
     "output_type": "stream",
     "text": [
      "[[1. 0. 0.]\n",
      " [0. 1. 0.]\n",
      " [0. 0. 1.]] \n",
      "\n",
      "tensor([[1., 0., 0.],\n",
      "        [0., 1., 0.],\n",
      "        [0., 0., 1.]])\n"
     ]
    }
   ],
   "source": [
    "np_id = np.identity(3)\n",
    "print(np_id,'\\n')\n",
    "torch_id = torch.eye(3)\n",
    "print(torch_id)"
   ],
   "metadata": {
    "collapsed": false,
    "ExecuteTime": {
     "end_time": "2023-07-04T07:35:01.415352900Z",
     "start_time": "2023-07-04T07:35:01.411349200Z"
    }
   }
  },
  {
   "cell_type": "markdown",
   "source": [
    "### Matrix Multiplication"
   ],
   "metadata": {
    "collapsed": false
   }
  },
  {
   "cell_type": "code",
   "execution_count": 8,
   "outputs": [
    {
     "data": {
      "text/plain": "tensor([[1, 2, 3],\n        [4, 5, 6],\n        [7, 8, 9]])"
     },
     "execution_count": 8,
     "metadata": {},
     "output_type": "execute_result"
    }
   ],
   "source": [
    "torch_a1 = torch.tensor([[1,2,3],[4,5,6],[7,8,9]])\n",
    "torch_a1"
   ],
   "metadata": {
    "collapsed": false,
    "ExecuteTime": {
     "end_time": "2023-07-04T07:42:02.017002600Z",
     "start_time": "2023-07-04T07:42:02.003482400Z"
    }
   }
  },
  {
   "cell_type": "code",
   "execution_count": 9,
   "outputs": [
    {
     "data": {
      "text/plain": "tensor([[2, 3],\n        [2, 3],\n        [2, 3]])"
     },
     "execution_count": 9,
     "metadata": {},
     "output_type": "execute_result"
    }
   ],
   "source": [
    "torch_a2 = torch.tensor([[2,3],[2,3],[2,3]])\n",
    "torch_a2"
   ],
   "metadata": {
    "collapsed": false,
    "ExecuteTime": {
     "end_time": "2023-07-04T07:42:40.020989300Z",
     "start_time": "2023-07-04T07:42:40.016986300Z"
    }
   }
  },
  {
   "cell_type": "code",
   "execution_count": 10,
   "outputs": [
    {
     "data": {
      "text/plain": "tensor([[12, 18],\n        [30, 45],\n        [48, 72]])"
     },
     "execution_count": 10,
     "metadata": {},
     "output_type": "execute_result"
    }
   ],
   "source": [
    "torch.mm(torch_a1, torch_a2)"
   ],
   "metadata": {
    "collapsed": false,
    "ExecuteTime": {
     "end_time": "2023-07-04T07:43:55.687413100Z",
     "start_time": "2023-07-04T07:43:55.683904400Z"
    }
   }
  },
  {
   "cell_type": "markdown",
   "source": [
    "### torch to np"
   ],
   "metadata": {
    "collapsed": false
   }
  },
  {
   "cell_type": "code",
   "execution_count": 11,
   "outputs": [],
   "source": [
    "np_a1 = np.array([[1,2,3],[4,5,6],[7,8,9]])"
   ],
   "metadata": {
    "collapsed": false,
    "ExecuteTime": {
     "end_time": "2023-07-04T07:45:20.165327900Z",
     "start_time": "2023-07-04T07:45:20.162325700Z"
    }
   }
  },
  {
   "cell_type": "code",
   "execution_count": 17,
   "outputs": [],
   "source": [
    "torch_a1 = torch.from_numpy(np_a1)"
   ],
   "metadata": {
    "collapsed": false,
    "ExecuteTime": {
     "end_time": "2023-07-04T07:47:23.226631700Z",
     "start_time": "2023-07-04T07:47:23.222628300Z"
    }
   }
  },
  {
   "cell_type": "code",
   "execution_count": 18,
   "outputs": [
    {
     "name": "stdout",
     "output_type": "stream",
     "text": [
      "<class 'torch.Tensor'>\n"
     ]
    }
   ],
   "source": [
    "print(type(torch_a1))"
   ],
   "metadata": {
    "collapsed": false,
    "ExecuteTime": {
     "end_time": "2023-07-04T07:47:35.984342500Z",
     "start_time": "2023-07-04T07:47:35.980339Z"
    }
   }
  },
  {
   "cell_type": "code",
   "execution_count": 13,
   "outputs": [],
   "source": [
    "np_a1 = torch_a1.numpy()"
   ],
   "metadata": {
    "collapsed": false,
    "ExecuteTime": {
     "end_time": "2023-07-04T07:46:08.941100700Z",
     "start_time": "2023-07-04T07:46:08.937097Z"
    }
   }
  },
  {
   "cell_type": "code",
   "execution_count": 19,
   "outputs": [
    {
     "name": "stdout",
     "output_type": "stream",
     "text": [
      "<class 'numpy.ndarray'>\n"
     ]
    }
   ],
   "source": [
    "print(type(np_a1))"
   ],
   "metadata": {
    "collapsed": false,
    "ExecuteTime": {
     "end_time": "2023-07-04T07:52:58.182159900Z",
     "start_time": "2023-07-04T07:52:58.178156300Z"
    }
   }
  },
  {
   "cell_type": "markdown",
   "source": [
    "### Autograd"
   ],
   "metadata": {
    "collapsed": false
   }
  },
  {
   "cell_type": "code",
   "execution_count": 23,
   "outputs": [],
   "source": [
    "x1 = torch.tensor([2.0], requires_grad=True).float()\n",
    "z1 = x1\n",
    "x2 = torch.tensor([2.0], requires_grad=True).float()\n",
    "z2 = x2**2\n",
    "x3 = torch.tensor([2.0], requires_grad=True).float()\n",
    "z3 = x3**3"
   ],
   "metadata": {
    "collapsed": false,
    "ExecuteTime": {
     "end_time": "2023-07-04T07:56:24.338929800Z",
     "start_time": "2023-07-04T07:56:24.335501500Z"
    }
   }
  },
  {
   "cell_type": "code",
   "execution_count": 24,
   "outputs": [],
   "source": [
    "z1.backward()\n",
    "z2.backward()\n",
    "z3.backward()"
   ],
   "metadata": {
    "collapsed": false,
    "ExecuteTime": {
     "end_time": "2023-07-04T07:56:27.252741700Z",
     "start_time": "2023-07-04T07:56:27.249221800Z"
    }
   }
  },
  {
   "cell_type": "code",
   "execution_count": 58,
   "outputs": [
    {
     "name": "stdout",
     "output_type": "stream",
     "text": [
      "dz1/dx1 evaluated in 2.000000: 1.000000\n",
      "dz2/dx2 evaluated in 2.000000: 4.000000\n",
      "dz3/dx3 evaluated in 2.000000: 12.000000\n"
     ]
    }
   ],
   "source": [
    "print('dz1/dx1 evaluated in %f: %f' % (x1, x1.grad)) # dz1/dx = 2\n",
    "print('dz2/dx2 evaluated in %f: %f' % (x2, x2.grad)) # dz2/dx = 2 * 2\n",
    "print('dz3/dx3 evaluated in %f: %f' % (x3, x3.grad)) # dz3/dx = 3 * 4"
   ],
   "metadata": {
    "collapsed": false,
    "ExecuteTime": {
     "end_time": "2023-07-04T08:18:17.547117800Z",
     "start_time": "2023-07-04T08:18:17.542111600Z"
    }
   }
  },
  {
   "cell_type": "markdown",
   "source": [
    "###  Single layer of a Neural Network"
   ],
   "metadata": {
    "collapsed": false
   }
  },
  {
   "cell_type": "code",
   "execution_count": 60,
   "outputs": [],
   "source": [
    "def sigm(x):\n",
    "    return 1/(1+torch.exp(-x))"
   ],
   "metadata": {
    "collapsed": false,
    "ExecuteTime": {
     "end_time": "2023-07-04T08:19:26.349987300Z",
     "start_time": "2023-07-04T08:19:26.338958500Z"
    }
   }
  },
  {
   "cell_type": "code",
   "execution_count": 61,
   "outputs": [],
   "source": [
    "torch.manual_seed(7)\n",
    "inputs = torch.randn((1,10))\n",
    "w1 = torch.randn_like(inputs)\n",
    "b1 = torch.randn((1,1))"
   ],
   "metadata": {
    "collapsed": false,
    "ExecuteTime": {
     "end_time": "2023-07-04T08:19:26.789913500Z",
     "start_time": "2023-07-04T08:19:26.784152500Z"
    }
   }
  },
  {
   "cell_type": "code",
   "execution_count": 65,
   "outputs": [
    {
     "data": {
      "text/plain": "tensor([[0.3177],\n        [0.1328],\n        [0.1373],\n        [0.2405],\n        [1.3955],\n        [1.3470],\n        [2.4382],\n        [0.2028],\n        [2.4505],\n        [2.0256]])"
     },
     "execution_count": 65,
     "metadata": {},
     "output_type": "execute_result"
    }
   ],
   "source": [
    "w1.view(10,1)"
   ],
   "metadata": {
    "collapsed": false,
    "ExecuteTime": {
     "end_time": "2023-07-04T08:24:07.859776800Z",
     "start_time": "2023-07-04T08:24:07.854499400Z"
    }
   }
  },
  {
   "cell_type": "code",
   "execution_count": 63,
   "outputs": [
    {
     "data": {
      "text/plain": "tensor([[-0.1468,  0.7861,  0.9468, -1.1143,  1.6908, -0.8948, -0.3556,  1.2324,\n          0.1382, -1.6822]])"
     },
     "execution_count": 63,
     "metadata": {},
     "output_type": "execute_result"
    }
   ],
   "source": [
    "inputs"
   ],
   "metadata": {
    "collapsed": false,
    "ExecuteTime": {
     "end_time": "2023-07-04T08:19:27.557960500Z",
     "start_time": "2023-07-04T08:19:27.553625500Z"
    }
   }
  },
  {
   "cell_type": "code",
   "execution_count": 68,
   "outputs": [],
   "source": [
    "output = sigm(torch.matmul(inputs, w1.T)+b1)"
   ],
   "metadata": {
    "collapsed": false,
    "ExecuteTime": {
     "end_time": "2023-07-04T08:28:08.146556900Z",
     "start_time": "2023-07-04T08:28:08.138046Z"
    }
   }
  },
  {
   "cell_type": "code",
   "execution_count": 69,
   "outputs": [
    {
     "data": {
      "text/plain": "tensor([[0.3030]])"
     },
     "execution_count": 69,
     "metadata": {},
     "output_type": "execute_result"
    }
   ],
   "source": [
    "output"
   ],
   "metadata": {
    "collapsed": false,
    "ExecuteTime": {
     "end_time": "2023-07-04T08:28:08.727526300Z",
     "start_time": "2023-07-04T08:28:08.720400500Z"
    }
   }
  },
  {
   "cell_type": "markdown",
   "source": [
    "###  Simple Neural Network"
   ],
   "metadata": {
    "collapsed": false
   }
  },
  {
   "cell_type": "code",
   "execution_count": 70,
   "outputs": [
    {
     "name": "stdout",
     "output_type": "stream",
     "text": [
      "torch.Size([10])\n",
      "First hidden layer:\n",
      "tensor([2.8571, 4.5964, 2.7061, 1.6105, 4.0433, 1.6860, 3.6443, 2.1050, 3.9807,\n",
      "        3.4162, 2.5031, 1.6862, 2.9572, 2.2082, 3.2833, 3.7847, 2.7327, 2.6177,\n",
      "        1.2653, 5.9995]) \n",
      "\n",
      "Second hidden layer:\n",
      "tensor([32.2993, 23.9020, 20.6125, 30.9846, 30.5237, 41.0882, 27.3729, 29.6121,\n",
      "        28.8898, 33.0395, 31.6494, 33.4028, 31.4145, 28.3931, 29.2206, 26.7620,\n",
      "        29.9971, 33.3539, 24.0110, 28.0911]) \n",
      "\n",
      "Output layer:\n",
      "tensor([267.5026, 292.9840, 243.6890, 277.8268, 314.4776, 387.0657, 258.0089,\n",
      "        334.9822, 283.3747, 273.0109])\n"
     ]
    }
   ],
   "source": [
    "input_layer = torch.rand(10)\n",
    "print(input_layer.shape)\n",
    "\n",
    "#h1 contains 20 units\n",
    "w1 = torch.rand(10,20)\n",
    "b1 = torch.randn(20)\n",
    "#h2 contains 20 units\n",
    "w2 = torch.rand(20,20)\n",
    "b2 = torch.randn(20)\n",
    "#the output layer has 10 units\n",
    "w3 = torch.rand(20,10)\n",
    "b3 = torch.randn(10)\n",
    "\n",
    "h1 = torch.matmul(w1.T,input_layer)+b1\n",
    "print(\"First hidden layer:\")\n",
    "print(h1,\"\\n\")\n",
    "h2 = torch.matmul(w2.T,h1)+b2\n",
    "print(\"Second hidden layer:\")\n",
    "print(h2,\"\\n\")\n",
    "output_layer = torch.matmul(w3.T,h2)+b3\n",
    "print(\"Output layer:\")\n",
    "print(output_layer)"
   ],
   "metadata": {
    "collapsed": false,
    "ExecuteTime": {
     "end_time": "2023-07-04T08:28:31.622770600Z",
     "start_time": "2023-07-04T08:28:31.610748800Z"
    }
   }
  },
  {
   "cell_type": "code",
   "execution_count": 71,
   "outputs": [],
   "source": [
    "import torch.nn as nn"
   ],
   "metadata": {
    "collapsed": false,
    "ExecuteTime": {
     "end_time": "2023-07-04T08:45:39.399704500Z",
     "start_time": "2023-07-04T08:45:39.388694700Z"
    }
   }
  },
  {
   "cell_type": "code",
   "execution_count": 81,
   "outputs": [],
   "source": [
    "class Net(nn.Module):\n",
    "    def __init__(self):\n",
    "        super(Net, self).__init__()\n",
    "        # nn.Linear(i,o)\n",
    "        # where i=# units in the current layer\n",
    "        # o = # units in the next layer\n",
    "        self.fc1 = nn.Linear(10,20)\n",
    "        self.fc2 = nn.Linear(20,20)\n",
    "        self.out = nn.Linear(20,10)\n",
    "    def forward(self, x):\n",
    "        x = self.fc1(x)\n",
    "        x = self.fc2(x)\n",
    "        x = self.out(x)\n",
    "        return x\n"
   ],
   "metadata": {
    "collapsed": false,
    "ExecuteTime": {
     "end_time": "2023-07-04T08:52:01.823880700Z",
     "start_time": "2023-07-04T08:52:01.816810400Z"
    }
   }
  },
  {
   "cell_type": "code",
   "execution_count": 82,
   "outputs": [
    {
     "data": {
      "text/plain": "tensor([ 0.0183,  1.2117, -0.3670, -1.0134,  0.0628, -0.6746,  0.0813, -0.5031,\n        -0.6725, -1.1316])"
     },
     "execution_count": 82,
     "metadata": {},
     "output_type": "execute_result"
    }
   ],
   "source": [
    "input_layer = torch.randn(10)\n",
    "input_layer"
   ],
   "metadata": {
    "collapsed": false,
    "ExecuteTime": {
     "end_time": "2023-07-04T08:52:02.252207100Z",
     "start_time": "2023-07-04T08:52:02.244194600Z"
    }
   }
  },
  {
   "cell_type": "code",
   "execution_count": 83,
   "outputs": [],
   "source": [
    "net = Net()"
   ],
   "metadata": {
    "collapsed": false,
    "ExecuteTime": {
     "end_time": "2023-07-04T08:52:03.114429500Z",
     "start_time": "2023-07-04T08:52:03.090982Z"
    }
   }
  },
  {
   "cell_type": "code",
   "execution_count": 84,
   "outputs": [
    {
     "data": {
      "text/plain": "tensor([ 0.0778, -0.5467,  0.3579,  0.1658, -0.2572,  0.1165,  0.0383,  0.0438,\n         0.0456, -0.2261], grad_fn=<AddBackward0>)"
     },
     "execution_count": 84,
     "metadata": {},
     "output_type": "execute_result"
    }
   ],
   "source": [
    "net(input_layer)"
   ],
   "metadata": {
    "collapsed": false,
    "ExecuteTime": {
     "end_time": "2023-07-04T08:52:03.369715Z",
     "start_time": "2023-07-04T08:52:03.362199800Z"
    }
   }
  },
  {
   "cell_type": "markdown",
   "source": [
    "## MNIST"
   ],
   "metadata": {
    "collapsed": false
   }
  },
  {
   "cell_type": "code",
   "execution_count": 85,
   "outputs": [],
   "source": [
    "import torchvision"
   ],
   "metadata": {
    "collapsed": false,
    "ExecuteTime": {
     "end_time": "2023-07-04T13:58:29.196832700Z",
     "start_time": "2023-07-04T13:58:28.929474400Z"
    }
   }
  },
  {
   "cell_type": "code",
   "execution_count": 181,
   "outputs": [
    {
     "data": {
      "text/plain": "<torch._C.Generator at 0x2713e317c10>"
     },
     "execution_count": 181,
     "metadata": {},
     "output_type": "execute_result"
    }
   ],
   "source": [
    "n_epochs = 3\n",
    "batch_size_train = 64\n",
    "batch_size_test = 1000\n",
    "learning_rate = 0.01\n",
    "momentum = 0.5\n",
    "log_interval = 10\n",
    "random_seed = 1\n",
    "#torch.backends.cudnn.enables = False\n",
    "torch.manual_seed(random_seed)"
   ],
   "metadata": {
    "collapsed": false,
    "ExecuteTime": {
     "end_time": "2023-07-05T07:51:31.516044300Z",
     "start_time": "2023-07-05T07:51:31.513039700Z"
    }
   }
  },
  {
   "cell_type": "code",
   "execution_count": 94,
   "outputs": [],
   "source": [
    "train_loader = torch.utils.data.DataLoader(\n",
    "     torchvision.datasets.MNIST('./files/', train=True, download=True,\n",
    "                             transform=torchvision.transforms.Compose([\n",
    "                               torchvision.transforms.ToTensor(),\n",
    "                               torchvision.transforms.Normalize(\n",
    "                                 (0.1307,), (0.3081,))\n",
    "                             ])),\n",
    "    batch_size=batch_size_train, shuffle=True,\n",
    ")"
   ],
   "metadata": {
    "collapsed": false,
    "ExecuteTime": {
     "end_time": "2023-07-04T14:51:54.435342200Z",
     "start_time": "2023-07-04T14:51:54.401615200Z"
    }
   }
  },
  {
   "cell_type": "code",
   "execution_count": 95,
   "outputs": [],
   "source": [
    "test_loader = torch.utils.data.DataLoader(\n",
    "     torchvision.datasets.MNIST('./files/', train=False, download=True,\n",
    "                             transform=torchvision.transforms.Compose([\n",
    "                               torchvision.transforms.ToTensor(),\n",
    "                               torchvision.transforms.Normalize(\n",
    "                                 (0.1307,), (0.3081,))\n",
    "                             ])),\n",
    "    batch_size=batch_size_test, shuffle=True\n",
    ")"
   ],
   "metadata": {
    "collapsed": false,
    "ExecuteTime": {
     "end_time": "2023-07-04T14:51:55.369564300Z",
     "start_time": "2023-07-04T14:51:55.362982700Z"
    }
   }
  },
  {
   "cell_type": "code",
   "execution_count": 96,
   "outputs": [],
   "source": [
    "examples = enumerate(test_loader)"
   ],
   "metadata": {
    "collapsed": false,
    "ExecuteTime": {
     "end_time": "2023-07-04T14:51:56.338928900Z",
     "start_time": "2023-07-04T14:51:56.333345800Z"
    }
   }
  },
  {
   "cell_type": "code",
   "execution_count": 97,
   "outputs": [],
   "source": [
    "batch_idx, (example_data, example_targets) = next(examples)"
   ],
   "metadata": {
    "collapsed": false,
    "ExecuteTime": {
     "end_time": "2023-07-04T14:51:56.801546700Z",
     "start_time": "2023-07-04T14:51:56.651228800Z"
    }
   }
  },
  {
   "cell_type": "code",
   "execution_count": 98,
   "outputs": [
    {
     "data": {
      "text/plain": "torch.Size([1000, 1, 28, 28])"
     },
     "execution_count": 98,
     "metadata": {},
     "output_type": "execute_result"
    }
   ],
   "source": [
    "example_data.shape"
   ],
   "metadata": {
    "collapsed": false,
    "ExecuteTime": {
     "end_time": "2023-07-04T14:51:57.080405700Z",
     "start_time": "2023-07-04T14:51:57.075092200Z"
    }
   }
  },
  {
   "cell_type": "code",
   "execution_count": 100,
   "outputs": [],
   "source": [
    "import matplotlib.pyplot as plt"
   ],
   "metadata": {
    "collapsed": false,
    "ExecuteTime": {
     "end_time": "2023-07-04T15:10:57.882139900Z",
     "start_time": "2023-07-04T15:10:56.044061300Z"
    }
   }
  },
  {
   "cell_type": "code",
   "execution_count": 103,
   "outputs": [
    {
     "data": {
      "text/plain": "<Figure size 640x480 with 6 Axes>",
      "image/png": "[encoded data removed]"
     },
     "execution_count": 103,
     "metadata": {},
     "output_type": "execute_result"
    },
    {
     "data": {
      "text/plain": "<Figure size 640x480 with 6 Axes>",
      "image/png": "[encoded data removed]"
     },
     "metadata": {},
     "output_type": "display_data"
    }
   ],
   "source": [
    "fig = plt.figure()\n",
    "for i in range(6):\n",
    "    plt.subplot(2,3,i+1)\n",
    "    plt.tight_layout()\n",
    "    plt.imshow(example_data[i][0], cmap='gray', interpolation='none')\n",
    "    plt.title(f\"Ground Truth: {example_targets[i]}\")\n",
    "    plt.xticks([])\n",
    "    plt.yticks([])\n",
    "fig"
   ],
   "metadata": {
    "collapsed": false,
    "ExecuteTime": {
     "end_time": "2023-07-04T15:23:24.852926600Z",
     "start_time": "2023-07-04T15:23:24.402826100Z"
    }
   }
  },
  {
   "cell_type": "code",
   "execution_count": 104,
   "outputs": [],
   "source": [
    "import torch.nn as nn\n",
    "import torch.nn.functional as F\n",
    "import torch.optim as optim"
   ],
   "metadata": {
    "collapsed": false,
    "ExecuteTime": {
     "end_time": "2023-07-04T15:33:17.173101200Z",
     "start_time": "2023-07-04T15:33:17.149101400Z"
    }
   }
  },
  {
   "cell_type": "code",
   "execution_count": 115,
   "outputs": [],
   "source": [
    "class Net(nn.Module):\n",
    "    def __init__(self):\n",
    "        super(Net, self).__init__()\n",
    "        self.conv1 = nn.Conv2d(1, 10, kernel_size=5)\n",
    "        self.conv2 = nn.Conv2d(10, 20, kernel_size=5)\n",
    "        self.conv2_drop = nn.Dropout2d()\n",
    "        self.fc1 = nn.Linear(320, 50)\n",
    "        self.fc2 = nn.Linear(50, 10)\n",
    "    def forward(self, x):\n",
    "        x = F.relu(F.max_pool2d(self.conv1(x), 2))\n",
    "        x = F.relu(F.max_pool2d(self.conv2_drop(self.conv2(x)), 2))\n",
    "        x = x.view(-1, 320) #-1表示在不指定row的情況下調整\n",
    "        x = F.relu(self.fc1(x))\n",
    "        x = F.dropout(x, training=self.training)\n",
    "        x = self.fc2(x)\n",
    "        return F.log_softmax(x)"
   ],
   "metadata": {
    "collapsed": false,
    "ExecuteTime": {
     "end_time": "2023-07-04T16:52:08.274798300Z",
     "start_time": "2023-07-04T16:52:08.274293700Z"
    }
   }
  },
  {
   "cell_type": "code",
   "execution_count": 114,
   "outputs": [
    {
     "name": "stdout",
     "output_type": "stream",
     "text": [
      "CUDA Device ID:  0\n",
      "Name of the current CUDA Device:  NVIDIA GeForce RTX 2060 SUPER\n"
     ]
    }
   ],
   "source": [
    "Cuda_id = torch.cuda.current_device()\n",
    "print('CUDA Device ID: ', torch.cuda.current_device())\n",
    "print('Name of the current CUDA Device: ', torch.cuda.get_device_name(Cuda_id))"
   ],
   "metadata": {
    "collapsed": false,
    "ExecuteTime": {
     "end_time": "2023-07-04T16:52:03.451388900Z",
     "start_time": "2023-07-04T16:52:03.450883900Z"
    }
   }
  },
  {
   "cell_type": "code",
   "execution_count": 110,
   "outputs": [
    {
     "data": {
      "text/plain": "device(type='cuda', index=0)"
     },
     "execution_count": 110,
     "metadata": {},
     "output_type": "execute_result"
    }
   ],
   "source": [
    "device = 'cuda' if torch.cuda.is_available() else 'cpu'\n",
    "x = torch.randint(1, 100, (100, 100)).to(torch.device(device))\n",
    "x.device"
   ],
   "metadata": {
    "collapsed": false,
    "ExecuteTime": {
     "end_time": "2023-07-04T16:49:16.730764900Z",
     "start_time": "2023-07-04T16:49:16.555965800Z"
    }
   }
  },
  {
   "cell_type": "code",
   "execution_count": 111,
   "outputs": [
    {
     "data": {
      "text/plain": "device(type='cpu')"
     },
     "execution_count": 111,
     "metadata": {},
     "output_type": "execute_result"
    }
   ],
   "source": [
    "x.cpu().device"
   ],
   "metadata": {
    "collapsed": false,
    "ExecuteTime": {
     "end_time": "2023-07-04T16:49:45.274042Z",
     "start_time": "2023-07-04T16:49:45.264270300Z"
    }
   }
  },
  {
   "cell_type": "code",
   "execution_count": 196,
   "outputs": [],
   "source": [
    "network = Net()\n",
    "network.to(torch.device(device))\n",
    "optimizer = optim.SGD(network.parameters(), lr=learning_rate, momentum=momentum)"
   ],
   "metadata": {
    "collapsed": false,
    "ExecuteTime": {
     "end_time": "2023-07-05T09:08:18.654536600Z",
     "start_time": "2023-07-05T09:08:18.639362600Z"
    }
   }
  },
  {
   "cell_type": "code",
   "execution_count": 209,
   "outputs": [],
   "source": [
    "train_losses = []\n",
    "train_counter = []\n",
    "test_losses = []\n",
    "test_counter = [i*len(train_loader.dataset) for i in range(n_epochs + 1)]"
   ],
   "metadata": {
    "collapsed": false,
    "ExecuteTime": {
     "end_time": "2023-07-05T09:12:14.910861100Z",
     "start_time": "2023-07-05T09:12:14.906352600Z"
    }
   }
  },
  {
   "cell_type": "code",
   "execution_count": 210,
   "outputs": [],
   "source": [
    "def train(epoch):\n",
    "    network.train()\n",
    "    for batch_idx, (data, target) in enumerate(train_loader):\n",
    "        optimizer.zero_grad()\n",
    "        output = network(data.to(device=device))\n",
    "        loss = F.nll_loss(output, target.to(device=device))\n",
    "        loss.backward()\n",
    "        optimizer.step()\n",
    "        if batch_idx % log_interval == 0:\n",
    "            print(f'Train Epoch: {epoch} [{batch_idx*len(data)}/{len(train_loader.dataset)}] ({100. * batch_idx / len(train_loader):.0f}%)\\tLoss: {loss.item():.6f}')\n",
    "            train_losses.append(loss.item())\n",
    "            train_counter.append(\n",
    "            (batch_idx*64) + ((epoch-1)*len(train_loader.dataset)))\n",
    "            torch.save(network.state_dict(), './results/model.pth')\n",
    "            torch.save(optimizer.state_dict(), './results/optimizer.pth')"
   ],
   "metadata": {
    "collapsed": false,
    "ExecuteTime": {
     "end_time": "2023-07-05T09:12:15.086031500Z",
     "start_time": "2023-07-05T09:12:15.082665200Z"
    }
   }
  },
  {
   "cell_type": "code",
   "execution_count": 211,
   "outputs": [],
   "source": [
    "def test():\n",
    "  network.eval()\n",
    "  test_loss = 0\n",
    "  correct = 0\n",
    "  with torch.no_grad(): # context 不須計算梯度與 backward propagation\n",
    "    for data, target in test_loader:\n",
    "      output = network(data.to(device=device))\n",
    "      test_loss += F.nll_loss(output, target.to(device=device), size_average=False).item()\n",
    "      pred = output.data.max(1, keepdim=True)[1]\n",
    "      correct += pred.eq(target.to(device=device).data.view_as(pred)).sum()\n",
    "  test_loss /= len(test_loader.dataset)\n",
    "  test_losses.append(test_loss)\n",
    "  print(f'\\nTest set: Avg. loss: {test_loss:.4f}, Accuracy: {correct}/{len(test_loader.dataset)} ({100. * correct / len(test_loader.dataset):.0f}%)\\n')"
   ],
   "metadata": {
    "collapsed": false,
    "ExecuteTime": {
     "end_time": "2023-07-05T09:12:15.250214100Z",
     "start_time": "2023-07-05T09:12:15.248209800Z"
    }
   }
  },
  {
   "cell_type": "code",
   "execution_count": 212,
   "outputs": [
    {
     "name": "stderr",
     "output_type": "stream",
     "text": [
      "C:\\Users\\islab\\AppData\\Local\\Temp\\ipykernel_13524\\3416364491.py:16: UserWarning: Implicit dimension choice for log_softmax has been deprecated. Change the call to include dim=X as an argument.\n",
      "  return F.log_softmax(x)\n"
     ]
    },
    {
     "name": "stdout",
     "output_type": "stream",
     "text": [
      "\n",
      "Test set: Avg. loss: 0.0954, Accuracy: 9712/10000 (97%)\n",
      "\n",
      "Train Epoch: 1 [0/60000] (0%)\tLoss: 0.238909\n",
      "Train Epoch: 1 [640/60000] (1%)\tLoss: 0.263194\n",
      "Train Epoch: 1 [1280/60000] (2%)\tLoss: 0.270783\n",
      "Train Epoch: 1 [1920/60000] (3%)\tLoss: 0.243326\n",
      "Train Epoch: 1 [2560/60000] (4%)\tLoss: 0.277874\n",
      "Train Epoch: 1 [3200/60000] (5%)\tLoss: 0.287095\n",
      "Train Epoch: 1 [3840/60000] (6%)\tLoss: 0.240191\n",
      "Train Epoch: 1 [4480/60000] (7%)\tLoss: 0.322554\n",
      "Train Epoch: 1 [5120/60000] (9%)\tLoss: 0.566293\n",
      "Train Epoch: 1 [5760/60000] (10%)\tLoss: 0.319347\n",
      "Train Epoch: 1 [6400/60000] (11%)\tLoss: 0.218075\n",
      "Train Epoch: 1 [7040/60000] (12%)\tLoss: 0.317368\n",
      "Train Epoch: 1 [7680/60000] (13%)\tLoss: 0.118967\n",
      "Train Epoch: 1 [8320/60000] (14%)\tLoss: 0.221920\n",
      "Train Epoch: 1 [8960/60000] (15%)\tLoss: 0.230873\n",
      "Train Epoch: 1 [9600/60000] (16%)\tLoss: 0.219641\n",
      "Train Epoch: 1 [10240/60000] (17%)\tLoss: 0.366206\n",
      "Train Epoch: 1 [10880/60000] (18%)\tLoss: 0.238939\n",
      "Train Epoch: 1 [11520/60000] (19%)\tLoss: 0.137018\n",
      "Train Epoch: 1 [12160/60000] (20%)\tLoss: 0.213025\n",
      "Train Epoch: 1 [12800/60000] (21%)\tLoss: 0.165921\n",
      "Train Epoch: 1 [13440/60000] (22%)\tLoss: 0.331283\n",
      "Train Epoch: 1 [14080/60000] (23%)\tLoss: 0.208610\n",
      "Train Epoch: 1 [14720/60000] (25%)\tLoss: 0.221318\n",
      "Train Epoch: 1 [15360/60000] (26%)\tLoss: 0.151599\n",
      "Train Epoch: 1 [16000/60000] (27%)\tLoss: 0.447078\n",
      "Train Epoch: 1 [16640/60000] (28%)\tLoss: 0.246805\n",
      "Train Epoch: 1 [17280/60000] (29%)\tLoss: 0.208029\n",
      "Train Epoch: 1 [17920/60000] (30%)\tLoss: 0.223870\n",
      "Train Epoch: 1 [18560/60000] (31%)\tLoss: 0.227798\n",
      "Train Epoch: 1 [19200/60000] (32%)\tLoss: 0.226596\n",
      "Train Epoch: 1 [19840/60000] (33%)\tLoss: 0.440431\n",
      "Train Epoch: 1 [20480/60000] (34%)\tLoss: 0.234414\n",
      "Train Epoch: 1 [21120/60000] (35%)\tLoss: 0.379650\n",
      "Train Epoch: 1 [21760/60000] (36%)\tLoss: 0.220280\n",
      "Train Epoch: 1 [22400/60000] (37%)\tLoss: 0.225677\n",
      "Train Epoch: 1 [23040/60000] (38%)\tLoss: 0.364960\n",
      "Train Epoch: 1 [23680/60000] (39%)\tLoss: 0.434521\n",
      "Train Epoch: 1 [24320/60000] (41%)\tLoss: 0.342508\n",
      "Train Epoch: 1 [24960/60000] (42%)\tLoss: 0.137407\n",
      "Train Epoch: 1 [25600/60000] (43%)\tLoss: 0.172074\n",
      "Train Epoch: 1 [26240/60000] (44%)\tLoss: 0.208047\n",
      "Train Epoch: 1 [26880/60000] (45%)\tLoss: 0.171617\n",
      "Train Epoch: 1 [27520/60000] (46%)\tLoss: 0.436671\n",
      "Train Epoch: 1 [28160/60000] (47%)\tLoss: 0.213973\n",
      "Train Epoch: 1 [28800/60000] (48%)\tLoss: 0.219871\n",
      "Train Epoch: 1 [29440/60000] (49%)\tLoss: 0.179428\n",
      "Train Epoch: 1 [30080/60000] (50%)\tLoss: 0.197496\n",
      "Train Epoch: 1 [30720/60000] (51%)\tLoss: 0.215283\n",
      "Train Epoch: 1 [31360/60000] (52%)\tLoss: 0.506973\n",
      "Train Epoch: 1 [32000/60000] (53%)\tLoss: 0.193151\n",
      "Train Epoch: 1 [32640/60000] (54%)\tLoss: 0.390205\n",
      "Train Epoch: 1 [33280/60000] (55%)\tLoss: 0.190316\n",
      "Train Epoch: 1 [33920/60000] (57%)\tLoss: 0.157254\n",
      "Train Epoch: 1 [34560/60000] (58%)\tLoss: 0.340338\n",
      "Train Epoch: 1 [35200/60000] (59%)\tLoss: 0.257335\n",
      "Train Epoch: 1 [35840/60000] (60%)\tLoss: 0.209387\n",
      "Train Epoch: 1 [36480/60000] (61%)\tLoss: 0.321899\n",
      "Train Epoch: 1 [37120/60000] (62%)\tLoss: 0.228743\n",
      "Train Epoch: 1 [37760/60000] (63%)\tLoss: 0.333775\n",
      "Train Epoch: 1 [38400/60000] (64%)\tLoss: 0.268155\n",
      "Train Epoch: 1 [39040/60000] (65%)\tLoss: 0.419199\n",
      "Train Epoch: 1 [39680/60000] (66%)\tLoss: 0.296618\n",
      "Train Epoch: 1 [40320/60000] (67%)\tLoss: 0.316883\n",
      "Train Epoch: 1 [40960/60000] (68%)\tLoss: 0.465471\n",
      "Train Epoch: 1 [41600/60000] (69%)\tLoss: 0.322148\n",
      "Train Epoch: 1 [42240/60000] (70%)\tLoss: 0.236369\n",
      "Train Epoch: 1 [42880/60000] (71%)\tLoss: 0.181284\n",
      "Train Epoch: 1 [43520/60000] (72%)\tLoss: 0.155623\n",
      "Train Epoch: 1 [44160/60000] (74%)\tLoss: 0.242998\n",
      "Train Epoch: 1 [44800/60000] (75%)\tLoss: 0.308961\n",
      "Train Epoch: 1 [45440/60000] (76%)\tLoss: 0.378905\n",
      "Train Epoch: 1 [46080/60000] (77%)\tLoss: 0.445852\n",
      "Train Epoch: 1 [46720/60000] (78%)\tLoss: 0.362543\n",
      "Train Epoch: 1 [47360/60000] (79%)\tLoss: 0.096590\n",
      "Train Epoch: 1 [48000/60000] (80%)\tLoss: 0.228154\n",
      "Train Epoch: 1 [48640/60000] (81%)\tLoss: 0.337817\n",
      "Train Epoch: 1 [49280/60000] (82%)\tLoss: 0.268950\n",
      "Train Epoch: 1 [49920/60000] (83%)\tLoss: 0.196140\n",
      "Train Epoch: 1 [50560/60000] (84%)\tLoss: 0.304342\n",
      "Train Epoch: 1 [51200/60000] (85%)\tLoss: 0.269669\n",
      "Train Epoch: 1 [51840/60000] (86%)\tLoss: 0.379730\n",
      "Train Epoch: 1 [52480/60000] (87%)\tLoss: 0.422875\n",
      "Train Epoch: 1 [53120/60000] (88%)\tLoss: 0.532535\n",
      "Train Epoch: 1 [53760/60000] (90%)\tLoss: 0.343601\n",
      "Train Epoch: 1 [54400/60000] (91%)\tLoss: 0.119620\n",
      "Train Epoch: 1 [55040/60000] (92%)\tLoss: 0.171189\n",
      "Train Epoch: 1 [55680/60000] (93%)\tLoss: 0.085019\n",
      "Train Epoch: 1 [56320/60000] (94%)\tLoss: 0.157399\n",
      "Train Epoch: 1 [56960/60000] (95%)\tLoss: 0.244964\n",
      "Train Epoch: 1 [57600/60000] (96%)\tLoss: 0.144728\n",
      "Train Epoch: 1 [58240/60000] (97%)\tLoss: 0.239158\n",
      "Train Epoch: 1 [58880/60000] (98%)\tLoss: 0.163967\n",
      "Train Epoch: 1 [59520/60000] (99%)\tLoss: 0.205108\n",
      "\n",
      "Test set: Avg. loss: 0.0848, Accuracy: 9752/10000 (98%)\n",
      "\n",
      "Train Epoch: 2 [0/60000] (0%)\tLoss: 0.263269\n",
      "Train Epoch: 2 [640/60000] (1%)\tLoss: 0.267559\n",
      "Train Epoch: 2 [1280/60000] (2%)\tLoss: 0.423099\n",
      "Train Epoch: 2 [1920/60000] (3%)\tLoss: 0.376604\n",
      "Train Epoch: 2 [2560/60000] (4%)\tLoss: 0.204191\n",
      "Train Epoch: 2 [3200/60000] (5%)\tLoss: 0.384002\n",
      "Train Epoch: 2 [3840/60000] (6%)\tLoss: 0.331228\n",
      "Train Epoch: 2 [4480/60000] (7%)\tLoss: 0.148789\n",
      "Train Epoch: 2 [5120/60000] (9%)\tLoss: 0.243489\n",
      "Train Epoch: 2 [5760/60000] (10%)\tLoss: 0.286052\n",
      "Train Epoch: 2 [6400/60000] (11%)\tLoss: 0.407647\n",
      "Train Epoch: 2 [7040/60000] (12%)\tLoss: 0.168683\n",
      "Train Epoch: 2 [7680/60000] (13%)\tLoss: 0.149029\n",
      "Train Epoch: 2 [8320/60000] (14%)\tLoss: 0.447023\n",
      "Train Epoch: 2 [8960/60000] (15%)\tLoss: 0.288440\n",
      "Train Epoch: 2 [9600/60000] (16%)\tLoss: 0.228747\n",
      "Train Epoch: 2 [10240/60000] (17%)\tLoss: 0.240246\n",
      "Train Epoch: 2 [10880/60000] (18%)\tLoss: 0.332143\n",
      "Train Epoch: 2 [11520/60000] (19%)\tLoss: 0.186907\n",
      "Train Epoch: 2 [12160/60000] (20%)\tLoss: 0.205813\n",
      "Train Epoch: 2 [12800/60000] (21%)\tLoss: 0.236004\n",
      "Train Epoch: 2 [13440/60000] (22%)\tLoss: 0.207692\n",
      "Train Epoch: 2 [14080/60000] (23%)\tLoss: 0.328959\n",
      "Train Epoch: 2 [14720/60000] (25%)\tLoss: 0.266243\n",
      "Train Epoch: 2 [15360/60000] (26%)\tLoss: 0.155568\n",
      "Train Epoch: 2 [16000/60000] (27%)\tLoss: 0.286004\n",
      "Train Epoch: 2 [16640/60000] (28%)\tLoss: 0.300454\n",
      "Train Epoch: 2 [17280/60000] (29%)\tLoss: 0.468607\n",
      "Train Epoch: 2 [17920/60000] (30%)\tLoss: 0.306198\n",
      "Train Epoch: 2 [18560/60000] (31%)\tLoss: 0.076798\n",
      "Train Epoch: 2 [19200/60000] (32%)\tLoss: 0.272521\n",
      "Train Epoch: 2 [19840/60000] (33%)\tLoss: 0.187848\n",
      "Train Epoch: 2 [20480/60000] (34%)\tLoss: 0.253242\n",
      "Train Epoch: 2 [21120/60000] (35%)\tLoss: 0.194436\n",
      "Train Epoch: 2 [21760/60000] (36%)\tLoss: 0.192034\n",
      "Train Epoch: 2 [22400/60000] (37%)\tLoss: 0.137084\n",
      "Train Epoch: 2 [23040/60000] (38%)\tLoss: 0.143129\n",
      "Train Epoch: 2 [23680/60000] (39%)\tLoss: 0.280480\n",
      "Train Epoch: 2 [24320/60000] (41%)\tLoss: 0.284931\n",
      "Train Epoch: 2 [24960/60000] (42%)\tLoss: 0.237279\n",
      "Train Epoch: 2 [25600/60000] (43%)\tLoss: 0.203081\n",
      "Train Epoch: 2 [26240/60000] (44%)\tLoss: 0.105875\n",
      "Train Epoch: 2 [26880/60000] (45%)\tLoss: 0.283158\n",
      "Train Epoch: 2 [27520/60000] (46%)\tLoss: 0.390282\n",
      "Train Epoch: 2 [28160/60000] (47%)\tLoss: 0.275578\n",
      "Train Epoch: 2 [28800/60000] (48%)\tLoss: 0.190219\n",
      "Train Epoch: 2 [29440/60000] (49%)\tLoss: 0.130515\n",
      "Train Epoch: 2 [30080/60000] (50%)\tLoss: 0.155244\n",
      "Train Epoch: 2 [30720/60000] (51%)\tLoss: 0.167224\n",
      "Train Epoch: 2 [31360/60000] (52%)\tLoss: 0.253700\n",
      "Train Epoch: 2 [32000/60000] (53%)\tLoss: 0.317601\n",
      "Train Epoch: 2 [32640/60000] (54%)\tLoss: 0.299471\n",
      "Train Epoch: 2 [33280/60000] (55%)\tLoss: 0.323787\n",
      "Train Epoch: 2 [33920/60000] (57%)\tLoss: 0.210297\n",
      "Train Epoch: 2 [34560/60000] (58%)\tLoss: 0.186919\n",
      "Train Epoch: 2 [35200/60000] (59%)\tLoss: 0.152261\n",
      "Train Epoch: 2 [35840/60000] (60%)\tLoss: 0.136718\n",
      "Train Epoch: 2 [36480/60000] (61%)\tLoss: 0.421386\n",
      "Train Epoch: 2 [37120/60000] (62%)\tLoss: 0.262028\n",
      "Train Epoch: 2 [37760/60000] (63%)\tLoss: 0.168138\n",
      "Train Epoch: 2 [38400/60000] (64%)\tLoss: 0.300843\n",
      "Train Epoch: 2 [39040/60000] (65%)\tLoss: 0.233833\n",
      "Train Epoch: 2 [39680/60000] (66%)\tLoss: 0.136892\n",
      "Train Epoch: 2 [40320/60000] (67%)\tLoss: 0.147988\n",
      "Train Epoch: 2 [40960/60000] (68%)\tLoss: 0.318235\n",
      "Train Epoch: 2 [41600/60000] (69%)\tLoss: 0.144660\n",
      "Train Epoch: 2 [42240/60000] (70%)\tLoss: 0.380852\n",
      "Train Epoch: 2 [42880/60000] (71%)\tLoss: 0.151953\n",
      "Train Epoch: 2 [43520/60000] (72%)\tLoss: 0.224803\n",
      "Train Epoch: 2 [44160/60000] (74%)\tLoss: 0.319825\n",
      "Train Epoch: 2 [44800/60000] (75%)\tLoss: 0.188562\n",
      "Train Epoch: 2 [45440/60000] (76%)\tLoss: 0.291104\n",
      "Train Epoch: 2 [46080/60000] (77%)\tLoss: 0.157174\n",
      "Train Epoch: 2 [46720/60000] (78%)\tLoss: 0.176086\n",
      "Train Epoch: 2 [47360/60000] (79%)\tLoss: 0.103283\n",
      "Train Epoch: 2 [48000/60000] (80%)\tLoss: 0.179333\n",
      "Train Epoch: 2 [48640/60000] (81%)\tLoss: 0.212329\n",
      "Train Epoch: 2 [49280/60000] (82%)\tLoss: 0.133714\n",
      "Train Epoch: 2 [49920/60000] (83%)\tLoss: 0.145665\n",
      "Train Epoch: 2 [50560/60000] (84%)\tLoss: 0.331371\n",
      "Train Epoch: 2 [51200/60000] (85%)\tLoss: 0.388564\n",
      "Train Epoch: 2 [51840/60000] (86%)\tLoss: 0.166551\n",
      "Train Epoch: 2 [52480/60000] (87%)\tLoss: 0.135299\n",
      "Train Epoch: 2 [53120/60000] (88%)\tLoss: 0.296758\n",
      "Train Epoch: 2 [53760/60000] (90%)\tLoss: 0.201329\n",
      "Train Epoch: 2 [54400/60000] (91%)\tLoss: 0.064042\n",
      "Train Epoch: 2 [55040/60000] (92%)\tLoss: 0.207743\n",
      "Train Epoch: 2 [55680/60000] (93%)\tLoss: 0.146906\n",
      "Train Epoch: 2 [56320/60000] (94%)\tLoss: 0.234964\n",
      "Train Epoch: 2 [56960/60000] (95%)\tLoss: 0.324568\n",
      "Train Epoch: 2 [57600/60000] (96%)\tLoss: 0.152728\n",
      "Train Epoch: 2 [58240/60000] (97%)\tLoss: 0.453173\n",
      "Train Epoch: 2 [58880/60000] (98%)\tLoss: 0.119859\n",
      "Train Epoch: 2 [59520/60000] (99%)\tLoss: 0.190506\n",
      "\n",
      "Test set: Avg. loss: 0.0721, Accuracy: 9777/10000 (98%)\n",
      "\n",
      "Train Epoch: 3 [0/60000] (0%)\tLoss: 0.120627\n",
      "Train Epoch: 3 [640/60000] (1%)\tLoss: 0.156375\n",
      "Train Epoch: 3 [1280/60000] (2%)\tLoss: 0.163011\n",
      "Train Epoch: 3 [1920/60000] (3%)\tLoss: 0.145514\n",
      "Train Epoch: 3 [2560/60000] (4%)\tLoss: 0.248345\n",
      "Train Epoch: 3 [3200/60000] (5%)\tLoss: 0.213989\n",
      "Train Epoch: 3 [3840/60000] (6%)\tLoss: 0.171497\n",
      "Train Epoch: 3 [4480/60000] (7%)\tLoss: 0.238847\n",
      "Train Epoch: 3 [5120/60000] (9%)\tLoss: 0.387955\n",
      "Train Epoch: 3 [5760/60000] (10%)\tLoss: 0.366765\n",
      "Train Epoch: 3 [6400/60000] (11%)\tLoss: 0.377744\n",
      "Train Epoch: 3 [7040/60000] (12%)\tLoss: 0.242598\n",
      "Train Epoch: 3 [7680/60000] (13%)\tLoss: 0.245268\n",
      "Train Epoch: 3 [8320/60000] (14%)\tLoss: 0.139771\n",
      "Train Epoch: 3 [8960/60000] (15%)\tLoss: 0.176415\n",
      "Train Epoch: 3 [9600/60000] (16%)\tLoss: 0.391003\n",
      "Train Epoch: 3 [10240/60000] (17%)\tLoss: 0.101585\n",
      "Train Epoch: 3 [10880/60000] (18%)\tLoss: 0.161137\n",
      "Train Epoch: 3 [11520/60000] (19%)\tLoss: 0.497049\n",
      "Train Epoch: 3 [12160/60000] (20%)\tLoss: 0.245539\n",
      "Train Epoch: 3 [12800/60000] (21%)\tLoss: 0.308179\n",
      "Train Epoch: 3 [13440/60000] (22%)\tLoss: 0.212813\n",
      "Train Epoch: 3 [14080/60000] (23%)\tLoss: 0.202894\n",
      "Train Epoch: 3 [14720/60000] (25%)\tLoss: 0.196842\n",
      "Train Epoch: 3 [15360/60000] (26%)\tLoss: 0.278284\n",
      "Train Epoch: 3 [16000/60000] (27%)\tLoss: 0.136253\n",
      "Train Epoch: 3 [16640/60000] (28%)\tLoss: 0.236406\n",
      "Train Epoch: 3 [17280/60000] (29%)\tLoss: 0.205286\n",
      "Train Epoch: 3 [17920/60000] (30%)\tLoss: 0.293107\n",
      "Train Epoch: 3 [18560/60000] (31%)\tLoss: 0.154580\n",
      "Train Epoch: 3 [19200/60000] (32%)\tLoss: 0.210796\n",
      "Train Epoch: 3 [19840/60000] (33%)\tLoss: 0.202966\n",
      "Train Epoch: 3 [20480/60000] (34%)\tLoss: 0.172499\n",
      "Train Epoch: 3 [21120/60000] (35%)\tLoss: 0.137999\n",
      "Train Epoch: 3 [21760/60000] (36%)\tLoss: 0.383686\n",
      "Train Epoch: 3 [22400/60000] (37%)\tLoss: 0.211554\n",
      "Train Epoch: 3 [23040/60000] (38%)\tLoss: 0.294451\n",
      "Train Epoch: 3 [23680/60000] (39%)\tLoss: 0.087301\n",
      "Train Epoch: 3 [24320/60000] (41%)\tLoss: 0.173082\n",
      "Train Epoch: 3 [24960/60000] (42%)\tLoss: 0.417328\n",
      "Train Epoch: 3 [25600/60000] (43%)\tLoss: 0.255357\n",
      "Train Epoch: 3 [26240/60000] (44%)\tLoss: 0.310565\n",
      "Train Epoch: 3 [26880/60000] (45%)\tLoss: 0.150141\n",
      "Train Epoch: 3 [27520/60000] (46%)\tLoss: 0.182404\n",
      "Train Epoch: 3 [28160/60000] (47%)\tLoss: 0.138835\n",
      "Train Epoch: 3 [28800/60000] (48%)\tLoss: 0.221052\n",
      "Train Epoch: 3 [29440/60000] (49%)\tLoss: 0.260362\n",
      "Train Epoch: 3 [30080/60000] (50%)\tLoss: 0.127589\n",
      "Train Epoch: 3 [30720/60000] (51%)\tLoss: 0.144338\n",
      "Train Epoch: 3 [31360/60000] (52%)\tLoss: 0.108745\n",
      "Train Epoch: 3 [32000/60000] (53%)\tLoss: 0.230249\n",
      "Train Epoch: 3 [32640/60000] (54%)\tLoss: 0.625269\n",
      "Train Epoch: 3 [33280/60000] (55%)\tLoss: 0.182924\n",
      "Train Epoch: 3 [33920/60000] (57%)\tLoss: 0.186328\n",
      "Train Epoch: 3 [34560/60000] (58%)\tLoss: 0.114656\n",
      "Train Epoch: 3 [35200/60000] (59%)\tLoss: 0.284098\n",
      "Train Epoch: 3 [35840/60000] (60%)\tLoss: 0.238729\n",
      "Train Epoch: 3 [36480/60000] (61%)\tLoss: 0.197815\n",
      "Train Epoch: 3 [37120/60000] (62%)\tLoss: 0.276005\n",
      "Train Epoch: 3 [37760/60000] (63%)\tLoss: 0.292261\n",
      "Train Epoch: 3 [38400/60000] (64%)\tLoss: 0.138837\n",
      "Train Epoch: 3 [39040/60000] (65%)\tLoss: 0.361422\n",
      "Train Epoch: 3 [39680/60000] (66%)\tLoss: 0.226365\n",
      "Train Epoch: 3 [40320/60000] (67%)\tLoss: 0.206729\n",
      "Train Epoch: 3 [40960/60000] (68%)\tLoss: 0.339980\n",
      "Train Epoch: 3 [41600/60000] (69%)\tLoss: 0.244496\n",
      "Train Epoch: 3 [42240/60000] (70%)\tLoss: 0.101464\n",
      "Train Epoch: 3 [42880/60000] (71%)\tLoss: 0.231456\n",
      "Train Epoch: 3 [43520/60000] (72%)\tLoss: 0.309918\n",
      "Train Epoch: 3 [44160/60000] (74%)\tLoss: 0.133730\n",
      "Train Epoch: 3 [44800/60000] (75%)\tLoss: 0.127079\n",
      "Train Epoch: 3 [45440/60000] (76%)\tLoss: 0.439116\n",
      "Train Epoch: 3 [46080/60000] (77%)\tLoss: 0.229114\n",
      "Train Epoch: 3 [46720/60000] (78%)\tLoss: 0.224456\n",
      "Train Epoch: 3 [47360/60000] (79%)\tLoss: 0.218182\n",
      "Train Epoch: 3 [48000/60000] (80%)\tLoss: 0.142794\n",
      "Train Epoch: 3 [48640/60000] (81%)\tLoss: 0.094983\n",
      "Train Epoch: 3 [49280/60000] (82%)\tLoss: 0.097127\n",
      "Train Epoch: 3 [49920/60000] (83%)\tLoss: 0.501668\n",
      "Train Epoch: 3 [50560/60000] (84%)\tLoss: 0.195757\n",
      "Train Epoch: 3 [51200/60000] (85%)\tLoss: 0.303068\n",
      "Train Epoch: 3 [51840/60000] (86%)\tLoss: 0.196677\n",
      "Train Epoch: 3 [52480/60000] (87%)\tLoss: 0.310042\n",
      "Train Epoch: 3 [53120/60000] (88%)\tLoss: 0.163958\n",
      "Train Epoch: 3 [53760/60000] (90%)\tLoss: 0.329078\n",
      "Train Epoch: 3 [54400/60000] (91%)\tLoss: 0.235551\n",
      "Train Epoch: 3 [55040/60000] (92%)\tLoss: 0.069423\n",
      "Train Epoch: 3 [55680/60000] (93%)\tLoss: 0.416257\n",
      "Train Epoch: 3 [56320/60000] (94%)\tLoss: 0.174127\n",
      "Train Epoch: 3 [56960/60000] (95%)\tLoss: 0.263624\n",
      "Train Epoch: 3 [57600/60000] (96%)\tLoss: 0.180479\n",
      "Train Epoch: 3 [58240/60000] (97%)\tLoss: 0.192784\n",
      "Train Epoch: 3 [58880/60000] (98%)\tLoss: 0.157350\n",
      "Train Epoch: 3 [59520/60000] (99%)\tLoss: 0.467072\n",
      "\n",
      "Test set: Avg. loss: 0.0670, Accuracy: 9800/10000 (98%)\n",
      "\n"
     ]
    }
   ],
   "source": [
    "test()\n",
    "for epoch in range(1, n_epochs + 1):\n",
    "    train(epoch)\n",
    "    test()"
   ],
   "metadata": {
    "collapsed": false,
    "ExecuteTime": {
     "end_time": "2023-07-05T09:12:58.094056900Z",
     "start_time": "2023-07-05T09:12:15.410255Z"
    }
   }
  },
  {
   "cell_type": "code",
   "execution_count": 213,
   "outputs": [
    {
     "data": {
      "text/plain": "OrderedDict([('conv1.weight',\n              tensor([[[[ 0.2130, -0.0388,  0.2318,  0.0310, -0.1556],\n                        [ 0.1617, -0.0600,  0.1138, -0.0254, -0.0597],\n                        [-0.1349, -0.1049,  0.1415,  0.0416,  0.2472],\n                        [ 0.2087, -0.0108, -0.0807,  0.2586,  0.1303],\n                        [-0.0879,  0.1427,  0.1439,  0.2046, -0.0992]]],\n              \n              \n                      [[[ 0.0305,  0.0441, -0.0025, -0.2565, -0.2640],\n                        [ 0.0876,  0.1060,  0.3075,  0.1532,  0.0399],\n                        [-0.0768,  0.2007,  0.4020,  0.1068,  0.1608],\n                        [-0.2900, -0.1699,  0.0924,  0.1063,  0.1844],\n                        [-0.2376, -0.3547, -0.0908, -0.1215,  0.1206]]],\n              \n              \n                      [[[ 0.1831, -0.0474,  0.0458, -0.1112, -0.3945],\n                        [ 0.0576,  0.2281,  0.0067, -0.3163, -0.3780],\n                        [ 0.2921,  0.2240,  0.1765, -0.1252, -0.4280],\n                        [-0.1175,  0.4593,  0.2374,  0.1331, -0.0645],\n                        [-0.0551,  0.2064,  0.3770,  0.0199,  0.1376]]],\n              \n              \n                      [[[ 0.1555,  0.1683,  0.1655, -0.1046, -0.1253],\n                        [-0.1471,  0.0040,  0.1997, -0.1224,  0.1120],\n                        [-0.1452, -0.1805,  0.0537,  0.3019,  0.3399],\n                        [-0.1246,  0.2039,  0.4435,  0.3105,  0.1587],\n                        [ 0.2232,  0.2544,  0.0631, -0.3076, -0.3761]]],\n              \n              \n                      [[[-0.3823, -0.2385, -0.2079,  0.1313,  0.2055],\n                        [-0.3377, -0.1508, -0.0023,  0.2275,  0.2955],\n                        [-0.3467,  0.0009,  0.0268,  0.2401,  0.0850],\n                        [-0.2843, -0.1195,  0.0654,  0.3487,  0.0818],\n                        [-0.2298,  0.0714,  0.1934,  0.2801, -0.0884]]],\n              \n              \n                      [[[ 0.0836, -0.0829, -0.0814, -0.1923, -0.1114],\n                        [-0.0045,  0.1692,  0.2035,  0.3036,  0.4442],\n                        [ 0.1966,  0.2006,  0.1533,  0.0513,  0.3071],\n                        [-0.2213, -0.1215, -0.1902, -0.0892, -0.2378],\n                        [-0.0010, -0.2664, -0.2296, -0.1791, -0.3278]]],\n              \n              \n                      [[[-0.0708, -0.2322, -0.1834,  0.0712,  0.3162],\n                        [-0.2532, -0.0415,  0.0739,  0.2961,  0.0472],\n                        [-0.0230, -0.1542,  0.1824,  0.0396,  0.2070],\n                        [ 0.0071,  0.0534,  0.0400,  0.1028,  0.1840],\n                        [ 0.1102,  0.1337, -0.1337,  0.1665,  0.2800]]],\n              \n              \n                      [[[ 0.2675,  0.2466, -0.0540,  0.0426,  0.3585],\n                        [-0.1174,  0.2116, -0.1402, -0.0610,  0.2489],\n                        [-0.2049, -0.0719,  0.1469,  0.2336,  0.2978],\n                        [-0.1100, -0.1346,  0.2317,  0.0687,  0.0158],\n                        [ 0.0325, -0.0940,  0.1814,  0.2204, -0.0695]]],\n              \n              \n                      [[[-0.3106, -0.2262, -0.1109, -0.1632, -0.2144],\n                        [-0.1670, -0.4775, -0.4156, -0.3700,  0.0032],\n                        [ 0.1314, -0.2149, -0.0764,  0.1114,  0.1130],\n                        [ 0.0538,  0.3106,  0.4096,  0.2181,  0.1092],\n                        [ 0.4342,  0.4740,  0.1932,  0.3154,  0.1035]]],\n              \n              \n                      [[[-0.1067,  0.2114,  0.0190,  0.2934, -0.1542],\n                        [ 0.0493,  0.1308,  0.2009,  0.2623, -0.1466],\n                        [-0.1650, -0.1727,  0.1028,  0.0115, -0.0353],\n                        [-0.1625, -0.0018,  0.2064,  0.1446, -0.0448],\n                        [-0.2077, -0.2719,  0.1287,  0.0441,  0.1212]]]], device='cuda:0')),\n             ('conv1.bias',\n              tensor([ 0.0034, -0.1797,  0.1549,  0.1617, -0.0836, -0.0767, -0.1015,  0.0349,\n                       0.0790, -0.1364], device='cuda:0')),\n             ('conv2.weight',\n              tensor([[[[ 1.6721e-02, -4.8457e-03,  5.1622e-02,  2.0756e-02, -1.4685e-02],\n                        [-3.6200e-02, -2.7400e-02,  8.1250e-02,  3.7281e-02,  2.9748e-02],\n                        [-1.8429e-02, -7.5381e-03, -6.3955e-02,  1.6528e-02,  6.6436e-02],\n                        [-9.0753e-02, -6.3731e-02,  3.1925e-02,  6.3632e-02,  4.0892e-02],\n                        [ 2.2169e-02, -3.0510e-02, -6.7901e-02, -4.0547e-02,  2.0963e-02]],\n              \n                       [[-3.8595e-02, -5.8056e-02,  1.2460e-02, -1.0847e-01, -8.6577e-02],\n                        [ 2.8735e-02,  6.0801e-03,  2.4997e-02, -1.4361e-01, -1.0305e-01],\n                        [-1.3644e-02, -3.2497e-02, -6.0488e-02, -2.4313e-02, -1.5944e-02],\n                        [-4.4830e-02, -3.3986e-02, -1.6200e-02,  1.3016e-01,  9.2296e-02],\n                        [-5.9535e-02, -7.9008e-02, -6.8614e-02, -3.2953e-02,  3.1923e-02]],\n              \n                       [[ 7.3667e-02, -1.9456e-02, -5.4386e-02, -6.3339e-02, -1.7968e-02],\n                        [ 6.9383e-02, -1.6226e-02, -3.9010e-03,  3.4868e-02, -4.5522e-02],\n                        [-4.5335e-02, -1.1818e-01,  1.0360e-01,  8.9872e-02,  9.8933e-02],\n                        [-5.0311e-02, -1.0560e-01,  1.1291e-02,  1.5192e-01,  8.4623e-02],\n                        [-2.3161e-02,  6.9515e-02, -1.9985e-02, -5.9486e-02,  1.2639e-02]],\n              \n                       ...,\n              \n                       [[ 9.5534e-02, -3.4521e-02,  6.2678e-02,  3.1007e-02, -3.4424e-02],\n                        [ 1.9074e-02, -2.1583e-03,  5.5154e-02,  8.3383e-02,  5.8866e-02],\n                        [-3.5842e-02,  3.5294e-03,  5.1536e-02,  2.5528e-02,  8.0642e-03],\n                        [ 3.0519e-02, -3.3417e-02,  1.3417e-02, -7.7671e-02,  9.0586e-03],\n                        [ 3.4283e-02, -1.6348e-02, -8.4394e-02, -9.3346e-02,  4.1342e-02]],\n              \n                       [[-3.8983e-02, -5.8340e-02, -8.5882e-02, -3.4285e-02, -4.9628e-03],\n                        [-1.0848e-01, -9.3130e-02, -1.3677e-01, -2.9320e-02, -6.1131e-02],\n                        [-7.1017e-02,  1.3111e-02, -1.5229e-01, -5.4939e-02, -5.2577e-03],\n                        [-8.8920e-02, -1.2182e-01, -2.1052e-01, -1.9942e-01, -6.4994e-02],\n                        [ 9.2032e-02,  3.4064e-02, -9.7625e-03, -1.3964e-01, -1.5038e-01]],\n              \n                       [[-3.7873e-02,  2.8789e-02,  3.4059e-02, -5.9467e-03, -5.1870e-02],\n                        [ 2.2683e-02,  2.8525e-02,  5.7857e-02,  5.5464e-02, -4.5132e-02],\n                        [-6.9494e-02,  6.6345e-02,  5.5525e-02,  5.6308e-02,  6.6933e-02],\n                        [ 6.5495e-03, -4.2578e-02,  7.4969e-04,  6.1324e-02,  2.1013e-02],\n                        [ 1.0473e-02, -9.4231e-02,  1.8534e-02,  2.4083e-03,  7.0138e-02]]],\n              \n              \n                      [[[ 4.3271e-02,  1.8416e-02,  7.4904e-02, -2.4684e-02, -8.4191e-03],\n                        [ 2.4450e-02,  4.5782e-02, -5.3598e-02, -2.3824e-02, -1.8117e-02],\n                        [-5.5129e-02, -6.5898e-02, -2.3838e-02, -3.7983e-02, -9.2324e-03],\n                        [-2.1999e-02, -2.3793e-02, -3.4885e-02, -1.3770e-02, -7.2247e-03],\n                        [ 4.8530e-02, -1.3176e-02, -8.6915e-02, -5.2456e-02, -1.4300e-02]],\n              \n                       [[ 2.0532e-02,  1.2007e-02, -4.9550e-02, -3.0955e-02, -6.5750e-02],\n                        [ 5.5924e-02,  1.3855e-02, -5.2485e-04,  8.9693e-02,  8.1922e-03],\n                        [-3.9848e-02, -3.3916e-02,  5.4648e-02,  4.3371e-02,  3.5620e-02],\n                        [ 1.2475e-02,  9.9459e-02,  4.0849e-02, -1.0117e-02, -3.5550e-02],\n                        [ 1.8904e-02,  1.0394e-02,  1.4241e-02,  5.8127e-02,  1.0982e-01]],\n              \n                       [[ 7.4414e-02,  2.2130e-02,  9.5428e-02,  5.6293e-02,  2.9760e-02],\n                        [-6.3199e-02, -2.0632e-03,  1.8338e-02, -5.0815e-02,  4.5776e-02],\n                        [-3.4038e-02, -7.3793e-02, -1.3207e-01, -9.1825e-02, -4.1858e-02],\n                        [-6.9285e-02, -1.2841e-03,  2.4634e-02,  4.8797e-02,  4.3186e-02],\n                        [-8.1030e-02, -5.1745e-02,  4.7865e-02,  2.7467e-02,  7.4389e-02]],\n              \n                       ...,\n              \n                       [[ 7.5361e-02,  5.5555e-02,  1.8147e-02,  8.8801e-03, -2.2337e-02],\n                        [ 9.2447e-02,  5.1738e-02, -5.1238e-02, -3.8623e-02,  2.9479e-02],\n                        [ 1.6860e-02, -3.6920e-02, -1.0957e-01,  2.9569e-02, -6.7072e-02],\n                        [-1.0150e-01, -5.6587e-02, -8.3520e-03, -4.0305e-02, -1.5235e-01],\n                        [ 4.1948e-02,  9.7339e-02,  4.4417e-02, -4.0682e-03, -4.0737e-02]],\n              \n                       [[ 2.8933e-02,  1.8824e-02,  6.2300e-02,  2.7194e-02,  7.0449e-02],\n                        [ 5.5529e-02,  9.1731e-03, -2.9317e-02, -6.0611e-02, -3.5262e-02],\n                        [-1.2225e-01, -1.1436e-01,  2.4348e-02, -6.5271e-02, -1.1209e-01],\n                        [-1.6254e-01, -6.8082e-02,  1.6208e-01,  1.1194e-01,  9.7632e-02],\n                        [-5.3488e-02,  4.1671e-02, -4.4089e-02,  5.8152e-02,  1.0882e-01]],\n              \n                       [[-6.0765e-03,  2.4149e-02, -4.7963e-02, -6.0433e-02, -4.6334e-02],\n                        [-3.6005e-02, -1.3643e-02, -2.6182e-02,  2.5574e-02, -3.8912e-02],\n                        [-3.6392e-02, -6.3920e-02, -5.9646e-02,  5.6010e-02,  2.3992e-02],\n                        [-4.9333e-02, -2.5877e-03, -1.2243e-02,  4.0154e-03,  3.6297e-02],\n                        [ 3.0622e-03,  4.5329e-02, -2.1004e-02,  8.2120e-03, -4.5018e-02]]],\n              \n              \n                      [[[ 6.9087e-03,  5.3771e-02, -6.4008e-03,  2.7989e-02, -5.3774e-02],\n                        [ 9.3281e-05,  4.4281e-02,  5.0774e-02, -5.6698e-02, -2.6611e-02],\n                        [ 4.2645e-02, -3.2479e-03,  2.5319e-02, -9.3422e-03,  5.2451e-03],\n                        [ 8.1307e-02,  8.2838e-02,  6.1443e-02,  6.5834e-02,  6.1639e-02],\n                        [ 1.6634e-02,  8.5458e-02,  4.2787e-03,  4.6279e-02,  6.2000e-03]],\n              \n                       [[ 1.6268e-03,  4.9429e-02,  6.0222e-02,  2.2022e-02,  3.0644e-02],\n                        [-1.3766e-03,  7.7345e-02,  5.9209e-02, -7.8258e-03,  2.9521e-02],\n                        [-4.8169e-02,  1.2252e-02, -8.9848e-02, -3.4003e-03,  9.0637e-02],\n                        [ 9.7892e-03, -6.5969e-02, -1.0034e-01, -5.4166e-02,  4.6414e-02],\n                        [-2.6828e-02, -2.5500e-02, -3.7796e-03, -1.3899e-02,  8.1821e-02]],\n              \n                       [[-6.3118e-02,  1.0473e-01,  3.4074e-02,  2.5909e-04, -1.0539e-02],\n                        [-5.2628e-02, -2.5506e-02,  2.7242e-02,  2.0503e-02,  3.9865e-02],\n                        [-5.6255e-03, -2.7533e-02, -8.1860e-02,  1.0663e-02,  9.0900e-02],\n                        [ 2.6097e-02, -6.2530e-02, -7.3170e-02,  1.5076e-02,  9.5520e-02],\n                        [-9.0846e-02,  5.0354e-03,  3.8459e-02,  6.3021e-03, -5.5970e-03]],\n              \n                       ...,\n              \n                       [[-8.2327e-02, -5.6860e-02, -8.4787e-02, -2.0169e-02,  9.5863e-03],\n                        [-1.3931e-02,  3.6481e-02, -4.1619e-02,  2.2105e-02, -7.1559e-02],\n                        [-1.9239e-02, -1.8289e-02,  3.4207e-02,  5.1527e-03, -1.7574e-03],\n                        [ 4.7246e-02,  6.2536e-02,  4.3284e-02, -3.1495e-02,  1.6264e-02],\n                        [ 7.6225e-02,  4.4913e-02, -1.8803e-02, -3.9074e-02,  4.7294e-02]],\n              \n                       [[-3.2810e-02,  3.8091e-03,  4.1424e-02, -3.3025e-02, -5.4991e-02],\n                        [ 2.6138e-02,  3.0482e-02,  3.3148e-03, -1.6733e-02, -4.8024e-02],\n                        [ 1.0038e-01,  8.5461e-02,  2.9423e-02, -2.6704e-02, -5.8182e-02],\n                        [ 5.4510e-02,  2.3686e-02, -7.7399e-02, -3.2081e-02, -7.9855e-02],\n                        [-1.2778e-01, -9.2754e-02, -5.6529e-02, -3.4657e-02, -2.5094e-02]],\n              \n                       [[ 1.2698e-02, -8.4224e-03, -3.5817e-02, -4.2067e-02,  2.6754e-02],\n                        [-2.9099e-02, -1.5690e-02,  6.3685e-02,  3.9315e-02,  3.1543e-02],\n                        [-7.0023e-02, -7.2065e-02, -5.3953e-03, -5.4012e-02, -4.6133e-03],\n                        [-6.9757e-02,  5.9148e-02, -6.0497e-02,  4.5143e-02,  5.6651e-02],\n                        [ 4.9138e-02,  8.9473e-02,  3.2965e-02, -2.5601e-02,  1.6818e-02]]],\n              \n              \n                      ...,\n              \n              \n                      [[[ 1.9266e-03, -9.3780e-02,  4.6035e-03,  2.3820e-02,  4.4665e-02],\n                        [-4.2721e-02, -1.8559e-02, -7.4490e-02, -1.1976e-02,  1.1640e-02],\n                        [-1.4523e-02,  1.1283e-02,  7.4063e-03,  5.7510e-02, -2.7461e-02],\n                        [ 4.4922e-02, -1.9757e-02,  4.4994e-02,  6.5523e-02, -4.9519e-02],\n                        [ 2.1659e-02, -2.3055e-03,  3.7750e-02, -3.7005e-02, -2.7910e-02]],\n              \n                       [[-5.7324e-02, -3.1993e-02, -1.5220e-02,  3.9319e-02,  2.4097e-02],\n                        [-1.1196e-02,  3.3038e-02,  6.7624e-02,  2.1076e-02,  2.6338e-02],\n                        [ 3.1902e-02, -1.7527e-02, -2.0896e-02,  5.4156e-02,  4.2540e-02],\n                        [ 5.3228e-02,  3.3461e-02, -5.9116e-03, -8.4610e-02, -5.5501e-02],\n                        [ 6.1415e-02, -4.1995e-02, -8.6797e-02,  5.7665e-03, -2.6873e-02]],\n              \n                       [[-1.4131e-01, -9.7223e-02, -2.1052e-02,  1.3797e-02,  6.9684e-02],\n                        [-3.4463e-02,  3.1022e-02,  5.1111e-02,  3.9758e-02,  6.5227e-02],\n                        [ 9.8771e-02,  5.3855e-02,  3.5652e-02,  6.0028e-02, -3.4131e-02],\n                        [ 2.2373e-02,  7.0200e-02,  4.4519e-02, -7.3343e-02,  4.9801e-03],\n                        [ 5.7198e-02, -1.8378e-02, -6.7803e-02, -3.1051e-02, -2.5436e-02]],\n              \n                       ...,\n              \n                       [[-8.2076e-02, -4.5348e-04, -4.9645e-02, -6.0132e-03, -7.1102e-02],\n                        [-6.1547e-02, -3.7290e-02, -9.1222e-02, -2.5458e-03, -3.0569e-02],\n                        [-1.7028e-02,  2.0649e-02, -7.1144e-02, -4.5626e-02, -5.4131e-03],\n                        [-1.9113e-02, -3.8318e-02, -5.8606e-02,  1.1200e-01, -4.8853e-02],\n                        [ 9.2266e-02, -7.6690e-03,  5.5168e-02, -4.1392e-02,  3.0902e-02]],\n              \n                       [[ 8.2193e-02,  1.6211e-02, -5.1073e-02, -4.5431e-04, -3.5108e-02],\n                        [ 7.1164e-02,  3.5866e-02,  8.6210e-02,  8.6560e-03,  2.5895e-02],\n                        [-9.6317e-03,  1.5081e-03,  1.2579e-02,  3.4252e-02,  5.1404e-02],\n                        [ 1.6381e-02,  2.9950e-02,  4.5318e-02,  7.5483e-02,  3.4761e-02],\n                        [ 1.5024e-02,  4.0439e-02,  8.2475e-02,  6.3574e-03, -4.2615e-02]],\n              \n                       [[-4.0344e-02, -5.7440e-02,  1.5089e-02,  5.0499e-04, -1.2093e-02],\n                        [-8.6072e-02, -7.9609e-02,  1.6694e-02,  5.7460e-02,  4.1803e-02],\n                        [-4.4751e-02, -3.1292e-02, -6.0673e-02,  1.9912e-02,  1.9731e-02],\n                        [-4.4134e-02,  5.5671e-02,  6.1808e-03, -4.7343e-02,  1.0279e-02],\n                        [-5.0319e-03, -3.7219e-02, -3.2878e-02, -5.2244e-02, -1.5506e-02]]],\n              \n              \n                      [[[ 2.6328e-02,  6.1839e-02,  6.8745e-02, -5.1900e-03, -3.6442e-02],\n                        [-3.8200e-02, -4.2176e-02,  6.1462e-03,  3.1819e-02,  2.8001e-02],\n                        [-6.4367e-02, -9.3412e-02, -3.0933e-02,  1.1907e-02, -2.6277e-02],\n                        [-4.0115e-02, -2.1873e-02, -7.2789e-02, -1.7354e-02, -8.0974e-02],\n                        [ 1.5382e-02, -4.0196e-02,  1.8717e-02, -1.7465e-02, -3.7621e-02]],\n              \n                       [[ 4.7334e-02, -3.4751e-02,  1.2719e-02, -2.4775e-02, -2.1140e-02],\n                        [ 7.9747e-02,  1.0316e-01,  1.0970e-01,  7.4490e-02, -1.6127e-02],\n                        [-4.3738e-02, -7.7554e-02, -4.9399e-03, -2.5653e-02,  1.6979e-02],\n                        [ 3.0551e-02, -6.4687e-03, -4.7528e-02,  2.6453e-02,  1.8439e-02],\n                        [-3.7839e-02, -7.1377e-03, -3.2624e-02,  3.5816e-02,  3.3661e-02]],\n              \n                       [[-1.5310e-03,  6.7788e-02, -2.7982e-02,  5.2852e-02,  4.9325e-02],\n                        [-8.6843e-02, -4.7066e-02, -1.0649e-01, -6.1690e-02,  3.5501e-03],\n                        [-1.3671e-01, -8.6827e-02, -1.5152e-01, -2.4776e-02,  6.1764e-03],\n                        [-1.4283e-01, -6.2704e-02, -2.3396e-02, -1.7707e-03, -3.0161e-02],\n                        [-6.3739e-02,  2.4468e-02, -5.6971e-03,  6.4968e-03, -3.1043e-02]],\n              \n                       ...,\n              \n                       [[ 6.2366e-03,  2.7839e-02,  4.0453e-04,  2.0529e-02, -2.4552e-02],\n                        [-3.3763e-02,  5.2527e-03, -4.1091e-02, -5.3481e-02, -1.2272e-01],\n                        [-1.3232e-01, -1.1804e-01, -9.9167e-02, -7.4207e-03, -3.1957e-02],\n                        [-1.1162e-01, -7.4959e-02, -7.2852e-02, -5.4714e-02, -7.1952e-02],\n                        [-2.4131e-02,  6.0610e-02,  3.4869e-03,  3.5974e-02,  2.8280e-03]],\n              \n                       [[-7.4164e-02,  6.9839e-02,  1.2623e-01,  1.2016e-01, -7.4387e-02],\n                        [-1.2641e-01, -6.0811e-02, -2.1982e-02, -3.8428e-02, -4.1220e-02],\n                        [ 8.0785e-02, -6.2389e-03,  2.0301e-02,  1.1741e-01,  7.4197e-02],\n                        [ 1.5000e-01,  1.9625e-01,  2.0366e-01,  1.1847e-01,  1.7154e-02],\n                        [ 7.4550e-02,  1.2808e-02, -8.8992e-03, -3.1544e-02,  4.2163e-02]],\n              \n                       [[-2.6149e-02,  1.1957e-02,  6.3353e-02, -5.9243e-02,  3.8246e-02],\n                        [-1.7092e-02,  3.6340e-02,  4.3677e-02,  4.0406e-02,  2.1603e-02],\n                        [-5.0946e-02, -7.3654e-02,  1.2521e-02,  1.2599e-02, -1.1696e-02],\n                        [-4.4406e-02, -3.7620e-02, -9.3095e-02, -7.9567e-02, -4.8940e-02],\n                        [ 1.0800e-02, -1.6782e-02,  2.8041e-02, -3.1978e-02,  4.3267e-02]]],\n              \n              \n                      [[[ 3.6763e-03, -4.5317e-02,  2.3993e-02, -2.7279e-02, -2.2570e-02],\n                        [ 2.9066e-02,  8.7148e-02,  7.3930e-02, -4.1728e-02,  9.3400e-02],\n                        [ 3.8508e-02,  9.1701e-03,  3.0821e-02, -9.8052e-03, -1.0217e-02],\n                        [-4.5911e-02, -4.3764e-02,  9.7370e-03, -4.2724e-02, -3.8830e-02],\n                        [ 5.0044e-02,  1.4622e-02,  2.6491e-03, -4.1823e-02,  2.7147e-02]],\n              \n                       [[ 1.7685e-02, -1.3750e-02, -3.0881e-02, -2.0149e-02, -3.0703e-02],\n                        [ 1.4720e-02,  8.7174e-02,  6.7289e-02, -8.2009e-03,  1.0403e-03],\n                        [ 4.9061e-02,  1.5283e-03,  4.6050e-02, -6.4979e-03,  6.1973e-02],\n                        [ 9.7504e-02,  3.0533e-02,  8.7530e-02,  3.4815e-02, -6.1109e-02],\n                        [ 4.1102e-02,  1.0081e-01,  9.7919e-02, -3.0998e-02, -1.0736e-01]],\n              \n                       [[ 1.8189e-02,  4.3010e-02, -1.2520e-02, -3.2703e-02, -4.8566e-02],\n                        [ 6.3287e-02,  7.3142e-02,  3.8743e-02,  9.7374e-02,  1.0463e-01],\n                        [ 8.6119e-02,  7.1221e-02,  1.2149e-01,  7.6521e-02, -8.3924e-02],\n                        [ 7.1911e-02,  5.0042e-02,  1.0772e-01, -1.0097e-01, -1.9233e-01],\n                        [ 2.2227e-03, -1.2067e-02, -1.0540e-01, -1.2459e-01, -1.3532e-01]],\n              \n                       ...,\n              \n                       [[ 1.0781e-02, -9.5560e-02,  6.5139e-02,  3.1481e-02,  1.9142e-02],\n                        [-2.1030e-02,  1.9613e-02, -3.8061e-02, -6.4291e-02, -8.5691e-02],\n                        [-6.7536e-02,  5.1707e-04,  3.8978e-02,  3.1099e-02, -3.1549e-02],\n                        [-5.9185e-03, -1.1500e-02, -4.4291e-02,  1.6544e-02,  9.4622e-03],\n                        [-4.3018e-02, -1.3076e-02, -6.7697e-02, -3.1716e-02,  5.8137e-02]],\n              \n                       [[-1.2483e-01, -7.1675e-02,  2.1198e-02, -1.9446e-02,  6.8109e-02],\n                        [-1.5208e-02, -6.1112e-02,  3.5616e-02,  6.8790e-02,  1.2262e-01],\n                        [-9.8687e-02, -4.7662e-02,  1.1108e-01,  8.5572e-02,  9.5460e-02],\n                        [-8.2007e-02, -1.6386e-02,  6.5315e-02, -6.5635e-03, -1.6505e-02],\n                        [ 1.2024e-02, -2.7807e-02, -3.3100e-02,  1.2014e-01,  6.3643e-02]],\n              \n                       [[-3.6643e-02, -1.1146e-02, -1.9873e-02, -8.4689e-02, -1.6488e-02],\n                        [-3.9427e-02,  1.1108e-02,  6.5168e-02,  3.1310e-03,  7.4440e-02],\n                        [-4.4674e-02,  7.7407e-02,  4.8976e-02, -4.3923e-02,  3.6346e-02],\n                        [ 7.5448e-02,  6.8983e-03,  7.6603e-03, -5.5123e-02, -3.9950e-02],\n                        [-2.2928e-03, -4.6043e-02,  5.9989e-03, -3.0392e-02, -2.0113e-02]]]],\n                     device='cuda:0')),\n             ('conv2.bias',\n              tensor([-0.0049, -0.0501,  0.0023, -0.0025, -0.0052, -0.1040,  0.0435,  0.0385,\n                      -0.0085, -0.0687,  0.0133,  0.0144,  0.0322,  0.0488, -0.0439, -0.0181,\n                       0.0334,  0.0072,  0.0017,  0.0263], device='cuda:0')),\n             ('fc1.weight',\n              tensor([[ 0.0033, -0.0339, -0.0811,  ...,  0.0334, -0.0572,  0.0378],\n                      [-0.0270, -0.0044, -0.0534,  ..., -0.0111,  0.0194,  0.0238],\n                      [ 0.0117,  0.0282,  0.0197,  ...,  0.0139,  0.0060,  0.0040],\n                      ...,\n                      [ 0.0234, -0.0479, -0.1020,  ..., -0.0356,  0.0148, -0.0286],\n                      [ 0.0322,  0.0455, -0.0746,  ..., -0.0909, -0.0343, -0.0190],\n                      [ 0.0628,  0.0372,  0.0165,  ..., -0.0519,  0.0227, -0.0797]],\n                     device='cuda:0')),\n             ('fc1.bias',\n              tensor([ 0.0064,  0.0764,  0.0617, -0.0409,  0.0105,  0.0005, -0.0417, -0.0120,\n                       0.0484,  0.0612,  0.0625,  0.0073,  0.0110, -0.0060, -0.0180, -0.0016,\n                      -0.0010, -0.0220,  0.0230,  0.0134,  0.0151, -0.0261,  0.0325,  0.0434,\n                       0.0315,  0.0284,  0.0512,  0.0504,  0.0484,  0.0311,  0.0161, -0.0439,\n                      -0.0249, -0.0060,  0.0362, -0.0414, -0.0147, -0.0120,  0.0541,  0.0615,\n                      -0.0185,  0.0253,  0.0439,  0.0151, -0.0035,  0.0639,  0.0248,  0.0045,\n                       0.0141, -0.0201], device='cuda:0')),\n             ('fc2.weight',\n              tensor([[-1.4627e-01, -1.7659e-01,  1.4742e-01, -1.4499e-01, -1.6923e-01,\n                        1.2863e-01, -1.7143e-01, -1.2639e-01,  1.4258e-01, -1.3724e-01,\n                        1.9568e-01,  1.3577e-01, -1.4602e-01,  9.6187e-02,  1.4004e-01,\n                        2.3501e-01, -2.6894e-01,  1.8253e-01, -7.5239e-02, -1.9794e-01,\n                       -9.8535e-02,  9.2877e-02, -2.4690e-01, -1.4984e-01,  1.1170e-01,\n                       -2.2966e-01,  1.3655e-01, -2.0552e-02, -1.6339e-01,  9.8167e-02,\n                       -7.6239e-02,  2.1325e-01,  1.4484e-01,  1.9522e-01,  2.6018e-01,\n                       -1.8419e-01, -3.3907e-01,  2.1328e-01,  3.5971e-02,  1.9058e-01,\n                        1.5344e-01, -5.7383e-02,  8.9637e-02, -1.3761e-01,  1.8582e-01,\n                       -2.6372e-03, -1.0670e-01, -1.5210e-01, -1.3195e-01,  1.8238e-01],\n                      [ 1.2071e-01,  1.6672e-01, -1.0533e-01, -1.9445e-01,  2.0161e-01,\n                       -4.9164e-02, -1.4378e-01,  2.6306e-01, -1.0776e-01,  1.6738e-01,\n                       -1.2977e-01, -1.0840e-01, -7.4811e-02, -2.2182e-01, -2.3210e-01,\n                        1.2176e-01,  1.6550e-01, -6.7259e-02,  2.1552e-01,  1.6304e-01,\n                        2.6635e-01,  1.2250e-01,  2.3765e-01,  3.1151e-01, -1.4025e-01,\n                       -1.4111e-01, -1.8005e-01, -8.5275e-02, -1.3293e-01, -1.6590e-01,\n                       -1.4437e-01, -2.9854e-02, -1.3640e-01, -1.8965e-01, -1.4143e-01,\n                       -1.8082e-01, -1.5005e-01,  1.7966e-01, -2.3220e-01, -3.4277e-02,\n                       -2.5342e-01,  5.2947e-02, -1.6461e-01, -2.3715e-01,  1.0979e-01,\n                        3.2279e-01,  2.5646e-02, -1.9891e-01,  9.5713e-02, -6.3443e-02],\n                      [ 1.3207e-01,  1.7691e-01, -2.1520e-01, -1.0745e-01,  1.1677e-02,\n                        1.7815e-01,  1.8845e-01,  1.9367e-01, -1.2022e-01,  1.4797e-01,\n                        1.6997e-01,  1.2924e-01,  2.2845e-01, -9.8961e-02, -1.0646e-01,\n                       -7.5045e-02,  2.0193e-01,  1.3154e-01,  1.5879e-01,  2.1431e-02,\n                       -1.0085e-01,  1.2964e-01, -1.2834e-01, -1.7670e-01,  1.0781e-01,\n                       -2.2042e-02,  1.2244e-01,  1.1096e-02, -6.2187e-02,  7.8781e-02,\n                        1.4125e-02,  1.7657e-01,  2.0110e-01, -1.3358e-01, -4.0380e-02,\n                       -1.2607e-01, -1.0562e-01, -1.9805e-01,  1.7636e-01, -6.2385e-02,\n                       -8.1691e-02,  1.8687e-01, -2.0424e-01, -8.5899e-02,  1.5997e-01,\n                        1.6189e-02,  2.1432e-01, -4.7301e-02, -2.6705e-01,  4.0299e-02],\n                      [ 1.2530e-01,  1.7239e-01, -1.3671e-01,  8.4893e-02,  2.0901e-01,\n                        1.9883e-01, -7.9976e-02, -8.2010e-02,  3.8278e-02,  1.8460e-01,\n                       -1.1855e-01,  9.9715e-02, -4.9001e-02,  1.7446e-01, -1.1326e-01,\n                        1.2426e-01,  6.7569e-02, -1.1485e-01, -9.8480e-02, -2.9652e-01,\n                       -1.7226e-01,  7.8798e-02,  2.2881e-01, -2.4427e-01,  2.0751e-01,\n                        2.5166e-01, -8.9516e-02, -1.1373e-01, -9.9866e-02,  1.3763e-01,\n                       -1.5631e-01, -1.8892e-01,  1.9855e-01,  7.3429e-02, -8.8766e-02,\n                        7.0448e-02, -4.1270e-02, -2.4972e-01, -7.8104e-02, -1.2433e-01,\n                        6.8320e-02,  1.6485e-01, -1.8417e-01, -1.6632e-01, -1.5002e-01,\n                       -1.4762e-01, -2.8851e-02,  2.0769e-01,  1.6208e-01, -2.7178e-03],\n                      [-1.6840e-01, -1.3216e-02, -5.3938e-02,  2.4499e-01, -8.5846e-02,\n                       -3.3214e-02,  5.2867e-02, -1.3666e-01,  1.5314e-01,  2.2631e-04,\n                        1.8327e-02,  6.6420e-02,  3.0684e-02, -2.6226e-01,  1.1459e-01,\n                       -1.6578e-02, -1.1221e-01, -2.3277e-01,  1.6789e-01,  1.1478e-01,\n                        2.0690e-01,  4.4119e-02, -1.0770e-01,  1.4911e-01, -2.2713e-01,\n                        2.0766e-01, -2.1509e-01,  2.7102e-01,  2.5684e-01, -1.0933e-01,\n                        2.4552e-01,  1.1742e-02, -1.6075e-01, -9.9603e-02, -1.4696e-01,\n                       -1.4157e-01,  1.0084e-01, -1.0937e-01,  3.1095e-01,  2.3133e-01,\n                       -2.5099e-01, -1.6298e-01, -1.7532e-01,  1.5304e-01,  2.3000e-02,\n                        2.9610e-01,  2.5734e-01,  3.5641e-02,  2.8296e-02, -1.8080e-01],\n                      [-2.4695e-01, -2.6103e-01,  2.7689e-01, -1.4624e-01, -1.2300e-01,\n                       -1.3834e-01, -6.1644e-02, -5.7398e-02,  2.3013e-03, -9.0784e-02,\n                       -1.6526e-01, -1.9782e-01, -4.4856e-02,  1.5222e-01,  1.6950e-01,\n                       -4.6613e-02, -1.3497e-01,  5.8739e-02,  1.0490e-02, -1.8918e-01,\n                        2.4110e-01,  1.7181e-02,  1.6286e-01, -1.5050e-01,  2.1818e-01,\n                        1.8905e-01, -2.1092e-01,  1.3128e-01,  6.0442e-02, -3.7962e-03,\n                       -1.3833e-01, -2.1463e-01, -7.2050e-02,  1.9369e-01, -1.7651e-02,\n                        2.1492e-01,  5.5317e-02, -4.7039e-03,  2.3695e-02, -1.5943e-01,\n                        1.6741e-01,  1.4518e-01,  1.1256e-01,  5.6827e-02, -1.5488e-01,\n                        1.0837e-01, -2.2630e-01,  2.3092e-01,  1.8801e-01,  2.0058e-01],\n                      [-2.9582e-01, -3.1852e-01,  2.7693e-01, -1.0974e-01, -7.8757e-02,\n                       -1.7307e-01,  2.0139e-01, -6.6700e-02,  1.4263e-02,  1.3344e-01,\n                        1.6015e-01, -7.6400e-02,  2.7339e-01,  1.0960e-01,  1.7414e-01,\n                       -7.0438e-02, -6.7790e-02,  2.5679e-02, -3.0899e-02,  1.0878e-01,\n                        2.6500e-01, -1.4002e-02, -4.1173e-02, -5.1316e-02, -1.6883e-01,\n                       -2.6185e-01, -1.9656e-01, -1.8877e-01, -1.2817e-01, -2.4755e-01,\n                       -1.5313e-02, -1.2946e-01, -2.2314e-01,  2.0561e-01, -9.6279e-02,\n                        1.7890e-01, -3.3263e-01,  1.9500e-01,  3.2124e-01,  1.7655e-01,\n                       -1.3580e-01, -1.3166e-01,  1.5644e-01,  1.0281e-01,  1.5560e-01,\n                       -4.5354e-03,  3.7757e-03,  9.6551e-02, -1.2601e-01, -3.0499e-02],\n                      [ 1.3801e-01,  1.7891e-01, -1.8486e-01,  2.6023e-01,  1.8932e-01,\n                        2.0384e-01,  1.1332e-01,  2.1796e-01,  1.2358e-01, -5.1629e-02,\n                       -1.5064e-01, -6.6084e-02, -1.6340e-01, -2.5382e-01, -1.7370e-01,\n                       -1.3057e-01,  1.4098e-01, -1.1439e-01,  2.1149e-01, -2.1960e-01,\n                       -1.6826e-01, -1.1744e-01,  3.0782e-02, -8.7751e-02,  1.9713e-01,\n                       -1.4417e-01,  1.0313e-01, -9.2436e-02,  2.8278e-01,  1.3095e-01,\n                        2.2106e-01, -1.0368e-01, -8.2121e-02,  1.4907e-01,  2.7610e-01,\n                       -2.0083e-01,  1.2670e-01, -1.8394e-01, -1.8153e-01, -3.7437e-02,\n                        1.5388e-01, -3.8914e-02, -2.1105e-01, -1.5473e-01, -1.3859e-01,\n                        5.1796e-02, -9.9298e-02, -2.4514e-01, -2.7263e-01,  2.1172e-01],\n                      [ 8.8516e-02,  1.7475e-01, -3.3840e-02, -2.9877e-02, -1.5873e-01,\n                        1.9560e-01, -1.5718e-01, -6.8231e-02,  1.0619e-01, -4.5542e-02,\n                        1.5294e-01, -1.4271e-01, -8.9609e-02,  8.1490e-02,  1.6794e-01,\n                       -9.0465e-02,  1.8085e-01,  1.8983e-01, -1.5708e-01,  3.1433e-02,\n                        2.2067e-01,  6.8678e-02, -2.8966e-02, -2.2773e-02, -3.9515e-02,\n                       -3.6192e-02,  1.4826e-01, -8.5617e-02,  7.4644e-02, -2.0680e-01,\n                       -1.2915e-01, -1.5561e-01,  4.0251e-02, -6.9768e-02, -1.3378e-01,\n                        1.5114e-01,  1.2770e-01,  1.5095e-01, -1.3324e-02, -8.6302e-02,\n                        2.8573e-03,  1.8931e-01,  1.5585e-02,  1.4709e-01, -1.6842e-01,\n                       -1.6228e-01, -1.4529e-01,  2.0194e-01,  1.2448e-01, -7.8714e-02],\n                      [ 1.1208e-01,  1.5580e-01, -1.2328e-01,  2.7237e-01, -1.5229e-01,\n                       -1.2686e-01, -8.2561e-02, -8.1239e-02,  1.8939e-01, -3.1493e-01,\n                       -1.7968e-02,  1.0705e-01, -2.0024e-01, -1.1736e-01,  1.4116e-01,\n                       -5.1281e-02, -1.8971e-01, -1.3507e-01, -1.9453e-01, -2.5054e-01,\n                       -6.8210e-03, -4.4750e-02, -4.8680e-02,  1.6879e-01,  1.5414e-01,\n                        2.1551e-01, -6.0079e-02,  2.7610e-01,  2.5372e-01,  1.2592e-01,\n                        2.1255e-01,  5.0080e-02, -7.3740e-02, -1.2660e-01, -5.6805e-02,\n                       -1.6655e-01,  1.1075e-01,  6.3732e-02, -9.5981e-02, -9.6604e-02,\n                        1.5159e-01, -1.5605e-01,  5.2005e-02,  1.4051e-01, -3.4053e-02,\n                       -9.6185e-02, -1.6193e-01,  1.4918e-01,  1.5442e-01, -5.5402e-02]],\n                     device='cuda:0')),\n             ('fc2.bias',\n              tensor([-0.2161,  0.4661, -0.2726, -0.0470, -0.0039, -0.0115, -0.1262, -0.1252,\n                       0.1212,  0.0952], device='cuda:0'))])"
     },
     "execution_count": 213,
     "metadata": {},
     "output_type": "execute_result"
    }
   ],
   "source": [
    "network.state_dict()"
   ],
   "metadata": {
    "collapsed": false,
    "ExecuteTime": {
     "end_time": "2023-07-05T09:12:58.207001200Z",
     "start_time": "2023-07-05T09:12:58.094056900Z"
    }
   }
  },
  {
   "cell_type": "code",
   "execution_count": 214,
   "outputs": [
    {
     "data": {
      "text/plain": "odict_keys(['conv1.weight', 'conv1.bias', 'conv2.weight', 'conv2.bias', 'fc1.weight', 'fc1.bias', 'fc2.weight', 'fc2.bias'])"
     },
     "execution_count": 214,
     "metadata": {},
     "output_type": "execute_result"
    }
   ],
   "source": [
    "network.state_dict().keys()"
   ],
   "metadata": {
    "collapsed": false,
    "ExecuteTime": {
     "end_time": "2023-07-05T09:12:58.211007400Z",
     "start_time": "2023-07-05T09:12:58.204892200Z"
    }
   }
  },
  {
   "cell_type": "code",
   "execution_count": 215,
   "outputs": [
    {
     "data": {
      "text/plain": "<Figure size 640x480 with 1 Axes>",
      "image/png": "[encoded data removed]"
     },
     "execution_count": 215,
     "metadata": {},
     "output_type": "execute_result"
    },
    {
     "data": {
      "text/plain": "<Figure size 640x480 with 1 Axes>",
      "image/png": "[encoded data removed]"
     },
     "metadata": {},
     "output_type": "display_data"
    }
   ],
   "source": [
    "fig = plt.figure()\n",
    "plt.plot(train_counter, train_losses, color='blue')\n",
    "plt.scatter(test_counter, test_losses, color='red')\n",
    "plt.legend(['Train Loss', 'Test Loss'], loc='upper right')\n",
    "plt.xlabel('number of training examples seen')\n",
    "plt.ylabel('negative log likelihood loss')\n",
    "fig"
   ],
   "metadata": {
    "collapsed": false,
    "ExecuteTime": {
     "end_time": "2023-07-05T09:12:58.494432Z",
     "start_time": "2023-07-05T09:12:58.211007400Z"
    }
   }
  },
  {
   "cell_type": "code",
   "execution_count": 207,
   "outputs": [
    {
     "data": {
      "text/plain": "[60000, 120000, 180000]"
     },
     "execution_count": 207,
     "metadata": {},
     "output_type": "execute_result"
    }
   ],
   "source": [
    "test_counter"
   ],
   "metadata": {
    "collapsed": false,
    "ExecuteTime": {
     "end_time": "2023-07-05T09:11:33.357592900Z",
     "start_time": "2023-07-05T09:11:33.351282300Z"
    }
   }
  },
  {
   "cell_type": "code",
   "execution_count": 205,
   "outputs": [
    {
     "data": {
      "text/plain": "[0.19808684387207032, 0.12073213806152344, 0.09542050857543945]"
     },
     "execution_count": 205,
     "metadata": {},
     "output_type": "execute_result"
    }
   ],
   "source": [
    "test_losses"
   ],
   "metadata": {
    "collapsed": false,
    "ExecuteTime": {
     "end_time": "2023-07-05T09:11:12.342167700Z",
     "start_time": "2023-07-05T09:11:12.315142800Z"
    }
   }
  },
  {
   "cell_type": "code",
   "execution_count": null,
   "outputs": [],
   "source": [],
   "metadata": {
    "collapsed": false
   }
  }
 ],
 "metadata": {
  "kernelspec": {
   "display_name": "Python 3",
   "language": "python",
   "name": "python3"
  },
  "language_info": {
   "codemirror_mode": {
    "name": "ipython",
    "version": 2
   },
   "file_extension": ".py",
   "mimetype": "text/x-python",
   "name": "python",
   "nbconvert_exporter": "python",
   "pygments_lexer": "ipython2",
   "version": "2.7.6"
  }
 },
 "nbformat": 4,
 "nbformat_minor": 0
}
