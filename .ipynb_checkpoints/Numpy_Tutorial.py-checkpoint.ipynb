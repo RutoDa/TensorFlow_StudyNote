{
 "cells": [
  {
   "cell_type": "markdown",
   "id": "1eaa7146",
   "metadata": {},
   "source": [
    "# Numpy練習\n",
    "* 觀看[課程](https://www.youtube.com/watch?v=QUT1VHiLmmI)"
   ]
  },
  {
   "cell_type": "markdown",
   "id": "370237c2",
   "metadata": {},
   "source": [
    "#### 基本操作"
   ]
  },
  {
   "cell_type": "code",
   "execution_count": 2,
   "id": "9e4aed2f",
   "metadata": {},
   "outputs": [],
   "source": [
    "import numpy as np"
   ]
  },
  {
   "cell_type": "code",
   "execution_count": 3,
   "id": "acf2cf99",
   "metadata": {},
   "outputs": [
    {
     "name": "stdout",
     "output_type": "stream",
     "text": [
      "[1 2 3]\n"
     ]
    }
   ],
   "source": [
    "a = np.array([1,2,3])\n",
    "print(a)"
   ]
  },
  {
   "cell_type": "code",
   "execution_count": 7,
   "id": "d8eba4e8",
   "metadata": {},
   "outputs": [
    {
     "name": "stdout",
     "output_type": "stream",
     "text": [
      "[[8. 8.]\n",
      " [7. 6.]]\n"
     ]
    }
   ],
   "source": [
    "b = np.array([[8.0,8.0],[7.0,6.0]])\n",
    "print(b)"
   ]
  },
  {
   "cell_type": "code",
   "execution_count": 9,
   "id": "aa7409e3",
   "metadata": {},
   "outputs": [
    {
     "name": "stdout",
     "output_type": "stream",
     "text": [
      "1\n",
      "2\n"
     ]
    }
   ],
   "source": [
    "# Get Dimension(Number of array dimensions.)\n",
    "print(a.ndim)\n",
    "print(b.ndim)"
   ]
  },
  {
   "cell_type": "code",
   "execution_count": 10,
   "id": "18b3a19b",
   "metadata": {},
   "outputs": [
    {
     "name": "stdout",
     "output_type": "stream",
     "text": [
      "(3,)\n",
      "(2, 2)\n"
     ]
    }
   ],
   "source": [
    "# Get Shape\n",
    "print(a.shape) \n",
    "print(b.shape)"
   ]
  },
  {
   "cell_type": "code",
   "execution_count": 13,
   "id": "b990328b",
   "metadata": {},
   "outputs": [
    {
     "name": "stdout",
     "output_type": "stream",
     "text": [
      "int32\n",
      "float64\n"
     ]
    }
   ],
   "source": [
    "# Get Type(data type，可看用了多少記憶體)\n",
    "print(a.dtype)\n",
    "print(b.dtype)"
   ]
  },
  {
   "cell_type": "code",
   "execution_count": 15,
   "id": "64065ec6",
   "metadata": {},
   "outputs": [
    {
     "name": "stdout",
     "output_type": "stream",
     "text": [
      "int16\n"
     ]
    }
   ],
   "source": [
    "# 可以在宣告時指定我們要哪種data type\n",
    "c = np.array([1,2,3], dtype=\"int16\")\n",
    "print(c.dtype)"
   ]
  },
  {
   "cell_type": "code",
   "execution_count": 18,
   "id": "8f4cb2c8",
   "metadata": {},
   "outputs": [
    {
     "name": "stdout",
     "output_type": "stream",
     "text": [
      "4\n",
      "8\n",
      "2\n"
     ]
    }
   ],
   "source": [
    "# Get size(每個元素多大，以byte為單位)\n",
    "print(a.itemsize)\n",
    "print(b.itemsize)\n",
    "print(c.itemsize)"
   ]
  },
  {
   "cell_type": "code",
   "execution_count": 22,
   "id": "af39dd08",
   "metadata": {},
   "outputs": [
    {
     "name": "stdout",
     "output_type": "stream",
     "text": [
      "12 或 12\n",
      "32\n"
     ]
    }
   ],
   "source": [
    "# Get total size\n",
    "print(a.size * a.itemsize, \"或\" , a.nbytes)\n",
    "print(b.size * b.itemsize)"
   ]
  },
  {
   "cell_type": "markdown",
   "id": "13eb7b4c",
   "metadata": {},
   "source": [
    "#### Accessing/Changing 指定的元素, row, column"
   ]
  },
  {
   "cell_type": "code",
   "execution_count": 24,
   "id": "cd1c8785",
   "metadata": {},
   "outputs": [
    {
     "name": "stdout",
     "output_type": "stream",
     "text": [
      "[[ 1  2  3  4  5  6  7]\n",
      " [ 8  9 10 11 12 13 14]]\n"
     ]
    }
   ],
   "source": [
    "a = np.array([[1,2,3,4,5,6,7],[8,9,10,11,12,13,14]])\n",
    "print(a)"
   ]
  },
  {
   "cell_type": "code",
   "execution_count": 28,
   "id": "c36ce109",
   "metadata": {},
   "outputs": [
    {
     "name": "stdout",
     "output_type": "stream",
     "text": [
      "13\n",
      "or\n",
      "13\n"
     ]
    }
   ],
   "source": [
    "# Get a specific element [r, c]\n",
    "print(a[1, 5])\n",
    "print(\"or\")\n",
    "print(a[1,-2])"
   ]
  },
  {
   "cell_type": "code",
   "execution_count": 29,
   "id": "a0c63f6a",
   "metadata": {},
   "outputs": [
    {
     "data": {
      "text/plain": [
       "array([1, 2, 3, 4, 5, 6, 7])"
      ]
     },
     "execution_count": 29,
     "metadata": {},
     "output_type": "execute_result"
    }
   ],
   "source": [
    "# Get a specific row\n",
    "a[0, :]"
   ]
  },
  {
   "cell_type": "code",
   "execution_count": 30,
   "id": "c74771d5",
   "metadata": {},
   "outputs": [
    {
     "data": {
      "text/plain": [
       "array([ 3, 10])"
      ]
     },
     "execution_count": 30,
     "metadata": {},
     "output_type": "execute_result"
    }
   ],
   "source": [
    "# Get a specific column\n",
    "a[:, 2]"
   ]
  },
  {
   "cell_type": "code",
   "execution_count": 34,
   "id": "0eff1214",
   "metadata": {},
   "outputs": [
    {
     "data": {
      "text/plain": [
       "array([2, 4, 6])"
      ]
     },
     "execution_count": 34,
     "metadata": {},
     "output_type": "execute_result"
    }
   ],
   "source": [
    "# Getting a little more fancy [statindex:endindex:stepsize]\n",
    "a[0, 1:6:2]\n",
    "a[0, 1:-1:2]"
   ]
  },
  {
   "cell_type": "code",
   "execution_count": 36,
   "id": "5916c7ec",
   "metadata": {},
   "outputs": [
    {
     "name": "stdout",
     "output_type": "stream",
     "text": [
      "[[ 1  2  3  4  5  6  7]\n",
      " [ 8  9 10 11 12 20 14]]\n"
     ]
    }
   ],
   "source": [
    "# 修改元素\n",
    "a[1,5] = 20\n",
    "print(a)"
   ]
  },
  {
   "cell_type": "code",
   "execution_count": 40,
   "id": "439230b1",
   "metadata": {},
   "outputs": [
    {
     "name": "stdout",
     "output_type": "stream",
     "text": [
      "[[69  2  3  4  5  6 88]\n",
      " [69  9 10 11 12 20 77]]\n"
     ]
    }
   ],
   "source": [
    "a[:,0] = 69 # 可以一次指定多個\n",
    "a[:,-1] = [88,77] # 還可以給不一樣的\n",
    "print(a)"
   ]
  },
  {
   "cell_type": "code",
   "execution_count": 43,
   "id": "69d9b181",
   "metadata": {},
   "outputs": [
    {
     "data": {
      "text/plain": [
       "array([[[1, 2],\n",
       "        [3, 4]],\n",
       "\n",
       "       [[5, 6],\n",
       "        [7, 8]]])"
      ]
     },
     "execution_count": 43,
     "metadata": {},
     "output_type": "execute_result"
    }
   ],
   "source": [
    "# 3-d example\n",
    "b = np.array([[[1,2],[3,4]],[[5,6],[7,8]]])\n",
    "b"
   ]
  },
  {
   "cell_type": "code",
   "execution_count": 47,
   "id": "47fd668c",
   "metadata": {},
   "outputs": [
    {
     "name": "stdout",
     "output_type": "stream",
     "text": [
      "4\n",
      "[[3 4]\n",
      " [7 8]]\n"
     ]
    }
   ],
   "source": [
    "# Get specific element (work outside in)\n",
    "print(b[0,1,1])\n",
    "print(b[:,1,:])"
   ]
  },
  {
   "cell_type": "code",
   "execution_count": 51,
   "id": "0694df76",
   "metadata": {},
   "outputs": [
    {
     "name": "stdout",
     "output_type": "stream",
     "text": [
      "[[[  1   2]\n",
      "  [888 888]]\n",
      "\n",
      " [[  5   6]\n",
      "  [999 999]]]\n"
     ]
    }
   ],
   "source": [
    "# replace \n",
    "b[:,1,:] = [[888,888],[999,999]]\n",
    "print(b)"
   ]
  },
  {
   "cell_type": "markdown",
   "id": "4d8344f8",
   "metadata": {},
   "source": [
    "#### Initializing Differnt Types of Arrays"
   ]
  },
  {
   "cell_type": "code",
   "execution_count": 53,
   "id": "e721fa6d",
   "metadata": {},
   "outputs": [
    {
     "data": {
      "text/plain": [
       "array([0., 0., 0., 0., 0.])"
      ]
     },
     "execution_count": 53,
     "metadata": {},
     "output_type": "execute_result"
    }
   ],
   "source": [
    "# ALL 0s matrix\n",
    "np.zeros(5)"
   ]
  },
  {
   "cell_type": "code",
   "execution_count": 56,
   "id": "e171d7f9",
   "metadata": {},
   "outputs": [
    {
     "data": {
      "text/plain": [
       "array([[[0., 0.],\n",
       "        [0., 0.],\n",
       "        [0., 0.]],\n",
       "\n",
       "       [[0., 0.],\n",
       "        [0., 0.],\n",
       "        [0., 0.]]])"
      ]
     },
     "execution_count": 56,
     "metadata": {},
     "output_type": "execute_result"
    }
   ],
   "source": [
    "np.zeros((2,3,2))"
   ]
  },
  {
   "cell_type": "code",
   "execution_count": 58,
   "id": "12e093bd",
   "metadata": {},
   "outputs": [
    {
     "data": {
      "text/plain": [
       "array([[1., 1., 1., 1.],\n",
       "       [1., 1., 1., 1.],\n",
       "       [1., 1., 1., 1.]])"
      ]
     },
     "execution_count": 58,
     "metadata": {},
     "output_type": "execute_result"
    }
   ],
   "source": [
    "# ALL 1s matrix\n",
    "np.ones((3,4), dtype=\"float64\")"
   ]
  },
  {
   "cell_type": "code",
   "execution_count": 60,
   "id": "9fb8e2ae",
   "metadata": {},
   "outputs": [
    {
     "data": {
      "text/plain": [
       "array([[69, 69],\n",
       "       [69, 69]], dtype=int16)"
      ]
     },
     "execution_count": 60,
     "metadata": {},
     "output_type": "execute_result"
    }
   ],
   "source": [
    "# Any other number\n",
    "np.full((2,2), 69, dtype=\"int16\")"
   ]
  },
  {
   "cell_type": "code",
   "execution_count": 63,
   "id": "afdc1d02",
   "metadata": {},
   "outputs": [
    {
     "data": {
      "text/plain": [
       "array([[4, 4, 4, 4, 4, 4, 4],\n",
       "       [4, 4, 4, 4, 4, 4, 4]])"
      ]
     },
     "execution_count": 63,
     "metadata": {},
     "output_type": "execute_result"
    }
   ],
   "source": [
    "# Any other number (fill_like)\n",
    "np.full(a.shape, 4)\n",
    "# 或\n",
    "np.full_like(a, 4)"
   ]
  },
  {
   "cell_type": "code",
   "execution_count": 65,
   "id": "7dab1bb4",
   "metadata": {},
   "outputs": [
    {
     "data": {
      "text/plain": [
       "array([[0.82862191, 0.94733435, 0.44076584, 0.25013969, 0.69122374,\n",
       "        0.40544274, 0.2792687 ],\n",
       "       [0.23804929, 0.38824144, 0.34188869, 0.20459123, 0.7062523 ,\n",
       "        0.59004473, 0.31190594]])"
      ]
     },
     "execution_count": 65,
     "metadata": {},
     "output_type": "execute_result"
    }
   ],
   "source": [
    "# Random decimal numbers\n",
    "np.random.rand(4,2)\n",
    "np.random.random_sample(a.shape)"
   ]
  },
  {
   "cell_type": "code",
   "execution_count": 73,
   "id": "b99ca059",
   "metadata": {},
   "outputs": [
    {
     "data": {
      "text/plain": [
       "array([[ 4, -7, -5],\n",
       "       [ 2, -4,  6],\n",
       "       [-3, -2, -5]])"
      ]
     },
     "execution_count": 73,
     "metadata": {},
     "output_type": "execute_result"
    }
   ],
   "source": [
    "# Random Integer values\n",
    "np.random.randint(-7,7, size=(3,3))#-7~6間的亂數"
   ]
  },
  {
   "cell_type": "code",
   "execution_count": 75,
   "id": "de90d256",
   "metadata": {},
   "outputs": [
    {
     "data": {
      "text/plain": [
       "array([[1., 0., 0., 0., 0.],\n",
       "       [0., 1., 0., 0., 0.],\n",
       "       [0., 0., 1., 0., 0.],\n",
       "       [0., 0., 0., 1., 0.],\n",
       "       [0., 0., 0., 0., 1.]])"
      ]
     },
     "execution_count": 75,
     "metadata": {},
     "output_type": "execute_result"
    }
   ],
   "source": [
    "# Identity matrix\n",
    "np.identity(5) #5*5"
   ]
  },
  {
   "cell_type": "code",
   "execution_count": 80,
   "id": "44ffed1f",
   "metadata": {},
   "outputs": [
    {
     "data": {
      "text/plain": [
       "array([1, 1, 1, 2, 2, 2, 3, 3, 3])"
      ]
     },
     "execution_count": 80,
     "metadata": {},
     "output_type": "execute_result"
    }
   ],
   "source": [
    "# Repeat an array\n",
    "arr = np.array([1,2,3])\n",
    "r1 = np.repeat(arr, 3)\n",
    "r1"
   ]
  },
  {
   "cell_type": "code",
   "execution_count": 83,
   "id": "f5df5d87",
   "metadata": {},
   "outputs": [
    {
     "data": {
      "text/plain": [
       "array([[1, 2, 3],\n",
       "       [1, 2, 3],\n",
       "       [1, 2, 3]])"
      ]
     },
     "execution_count": 83,
     "metadata": {},
     "output_type": "execute_result"
    }
   ],
   "source": [
    "arr = np.array([[1,2,3]])\n",
    "r1 = np.repeat(arr, 3, axis=0)\n",
    "r1"
   ]
  },
  {
   "cell_type": "code",
   "execution_count": 84,
   "id": "eae3c092",
   "metadata": {},
   "outputs": [
    {
     "data": {
      "text/plain": [
       "array([[1, 1, 1, 2, 2, 2, 3, 3, 3]])"
      ]
     },
     "execution_count": 84,
     "metadata": {},
     "output_type": "execute_result"
    }
   ],
   "source": [
    "arr = np.array([[1,2,3]])\n",
    "r1 = np.repeat(arr, 3, axis=1)\n",
    "r1"
   ]
  },
  {
   "attachments": {},
   "cell_type": "markdown",
   "id": "488325e2",
   "metadata": {},
   "source": [
    "#### 製作以下的圖\n",
    "<img width =100 src=\"img/matrix.png\">"
   ]
  },
  {
   "cell_type": "code",
   "execution_count": 89,
   "id": "f67fb7f8",
   "metadata": {},
   "outputs": [
    {
     "name": "stdout",
     "output_type": "stream",
     "text": [
      "[[1 1 1 1 1]\n",
      " [1 0 0 0 1]\n",
      " [1 0 9 0 1]\n",
      " [1 0 0 0 1]\n",
      " [1 1 1 1 1]]\n"
     ]
    }
   ],
   "source": [
    "# my sol\n",
    "output = np.ones((5,5), dtype=\"int16\")\n",
    "output[1:-1, 1:-1] = 0\n",
    "output[2:-2, 2:-2] = 9\n",
    "print(output)"
   ]
  },
  {
   "cell_type": "code",
   "execution_count": 98,
   "id": "d5bdd654",
   "metadata": {},
   "outputs": [
    {
     "name": "stdout",
     "output_type": "stream",
     "text": [
      "[[1. 1. 1. 1. 1.]\n",
      " [1. 1. 1. 1. 1.]\n",
      " [1. 1. 1. 1. 1.]\n",
      " [1. 1. 1. 1. 1.]\n",
      " [1. 1. 1. 1. 1.]]\n",
      "[[0. 0. 0.]\n",
      " [0. 9. 0.]\n",
      " [0. 0. 0.]]\n",
      "[[1. 1. 1. 1. 1.]\n",
      " [1. 0. 0. 0. 1.]\n",
      " [1. 0. 9. 0. 1.]\n",
      " [1. 0. 0. 0. 1.]\n",
      " [1. 1. 1. 1. 1.]]\n"
     ]
    }
   ],
   "source": [
    "# other sol\n",
    "output = np.ones((5,5))\n",
    "print(output)\n",
    "\n",
    "z = np.zeros((3,3))\n",
    "z[1,1] = 9\n",
    "print(z)\n",
    "\n",
    "output[1:-1, 1:-1] = z\n",
    "print(output)"
   ]
  },
  {
   "cell_type": "markdown",
   "id": "922fafdb",
   "metadata": {},
   "source": [
    "#### Be careful about copying arrays!!"
   ]
  },
  {
   "cell_type": "code",
   "execution_count": 100,
   "id": "2eb17c75",
   "metadata": {},
   "outputs": [
    {
     "data": {
      "text/plain": [
       "array([1, 2, 3])"
      ]
     },
     "execution_count": 100,
     "metadata": {},
     "output_type": "execute_result"
    }
   ],
   "source": [
    "a = np.array([1,2,3])\n",
    "a"
   ]
  },
  {
   "cell_type": "code",
   "execution_count": 101,
   "id": "4a15f81b",
   "metadata": {},
   "outputs": [
    {
     "data": {
      "text/plain": [
       "array([1, 2, 3])"
      ]
     },
     "execution_count": 101,
     "metadata": {},
     "output_type": "execute_result"
    }
   ],
   "source": [
    "b = a\n",
    "b"
   ]
  },
  {
   "cell_type": "code",
   "execution_count": 103,
   "id": "be36c1c1",
   "metadata": {},
   "outputs": [
    {
     "name": "stdout",
     "output_type": "stream",
     "text": [
      "[100   2   3]\n"
     ]
    }
   ],
   "source": [
    "b[0] = 100\n",
    "print(a) # a be modified"
   ]
  },
  {
   "cell_type": "code",
   "execution_count": 105,
   "id": "32a943d5",
   "metadata": {},
   "outputs": [
    {
     "name": "stdout",
     "output_type": "stream",
     "text": [
      "[1 2 3]\n"
     ]
    }
   ],
   "source": [
    "a = np.array([1,2,3]) \n",
    "b = a.copy() ## 用copy()\n",
    "b[0] = 66\n",
    "print(a)"
   ]
  },
  {
   "cell_type": "markdown",
   "id": "b6dde7d8",
   "metadata": {},
   "source": [
    "### Mathematics"
   ]
  },
  {
   "cell_type": "code",
   "execution_count": 106,
   "id": "135e2709",
   "metadata": {},
   "outputs": [
    {
     "name": "stdout",
     "output_type": "stream",
     "text": [
      "[1 2 3 4]\n"
     ]
    }
   ],
   "source": [
    "a = np.array([1,2,3,4])\n",
    "print(a)"
   ]
  },
  {
   "cell_type": "code",
   "execution_count": 114,
   "id": "b4027f57",
   "metadata": {},
   "outputs": [
    {
     "name": "stdout",
     "output_type": "stream",
     "text": [
      "[3 4 5 6]\n",
      "[-1  0  1  2]\n",
      "[0.5 1.  1.5 2. ]\n",
      "[3 4 5 6]\n",
      "[1 2 3 4]\n"
     ]
    }
   ],
   "source": [
    "# 全都被處理\n",
    "print(a + 2)\n",
    "print(a - 2)\n",
    "print(a / 2)\n",
    "print(a)"
   ]
  },
  {
   "cell_type": "code",
   "execution_count": 115,
   "id": "bf88328e",
   "metadata": {},
   "outputs": [],
   "source": [
    "b = np.array([1,0,1,0])"
   ]
  },
  {
   "cell_type": "code",
   "execution_count": 119,
   "id": "51aeafb0",
   "metadata": {},
   "outputs": [
    {
     "name": "stdout",
     "output_type": "stream",
     "text": [
      "[1 2 3 4]\n",
      "[1 0 1 0]\n",
      "[2 2 4 4]\n",
      "[1 1 3 1]\n"
     ]
    }
   ],
   "source": [
    "print(a)\n",
    "print(b)\n",
    "print(a+b) #矩陣加法\n",
    "print(a**b) "
   ]
  },
  {
   "cell_type": "code",
   "execution_count": 121,
   "id": "ad75f531",
   "metadata": {},
   "outputs": [
    {
     "name": "stdout",
     "output_type": "stream",
     "text": [
      "[ 0.84147098  0.90929743  0.14112001 -0.7568025 ]\n"
     ]
    }
   ],
   "source": [
    "# Take the sin\n",
    "print(np.sin(a))\n",
    "# For a lot more (https://docs.scipy.org/doc/numpy/reference/routines.math.html)"
   ]
  },
  {
   "cell_type": "markdown",
   "id": "a3f08e79",
   "metadata": {},
   "source": [
    "#### Linear Algebra"
   ]
  },
  {
   "cell_type": "code",
   "execution_count": 126,
   "id": "a90326ee",
   "metadata": {},
   "outputs": [
    {
     "name": "stdout",
     "output_type": "stream",
     "text": [
      "[[1. 1. 1.]\n",
      " [1. 1. 1.]]\n",
      "[[2 2]\n",
      " [2 2]\n",
      " [2 2]]\n"
     ]
    }
   ],
   "source": [
    "a = np.ones((2,3))\n",
    "print(a)\n",
    "\n",
    "b = np.full((3,2), 2)\n",
    "print(b)"
   ]
  },
  {
   "cell_type": "code",
   "execution_count": 129,
   "id": "12587d17",
   "metadata": {},
   "outputs": [
    {
     "data": {
      "text/plain": [
       "array([[6., 6.],\n",
       "       [6., 6.]])"
      ]
     },
     "execution_count": 129,
     "metadata": {},
     "output_type": "execute_result"
    }
   ],
   "source": [
    "# 矩陣乘法 matrix multiply\n",
    "np.matmul(a,b)"
   ]
  },
  {
   "cell_type": "code",
   "execution_count": 132,
   "id": "da205b93",
   "metadata": {},
   "outputs": [
    {
     "name": "stdout",
     "output_type": "stream",
     "text": [
      "[[1. 0. 0.]\n",
      " [0. 1. 0.]\n",
      " [0. 0. 1.]]\n"
     ]
    },
    {
     "data": {
      "text/plain": [
       "1.0"
      ]
     },
     "execution_count": 132,
     "metadata": {},
     "output_type": "execute_result"
    }
   ],
   "source": [
    "#Compute the determinant of an array.\n",
    "c = np.identity(3)\n",
    "print(c)\n",
    "np.linalg.det(c) "
   ]
  },
  {
   "cell_type": "code",
   "execution_count": 133,
   "id": "f7dfe095",
   "metadata": {},
   "outputs": [],
   "source": [
    "## Reference docs (https://docs.scipy.org/doc/numpy/reference/routines.linalg.html)\n",
    "\n",
    "# Determinant\n",
    "# Trace\n",
    "# Singular Vector Decomposition\n",
    "# Eigenvalues\n",
    "# Matrix Norm\n",
    "# Inverse\n",
    "# Etc..."
   ]
  },
  {
   "cell_type": "markdown",
   "id": "33a5aef9",
   "metadata": {},
   "source": [
    "#### Statistics"
   ]
  },
  {
   "cell_type": "code",
   "execution_count": 134,
   "id": "47d3f23f",
   "metadata": {},
   "outputs": [
    {
     "data": {
      "text/plain": [
       "array([[1, 2, 3],\n",
       "       [4, 5, 6]])"
      ]
     },
     "execution_count": 134,
     "metadata": {},
     "output_type": "execute_result"
    }
   ],
   "source": [
    "stats= np.array([[1,2,3],[4,5,6]])\n",
    "stats"
   ]
  },
  {
   "cell_type": "code",
   "execution_count": 137,
   "id": "47bd4b6a",
   "metadata": {},
   "outputs": [
    {
     "name": "stdout",
     "output_type": "stream",
     "text": [
      "1\n",
      "6\n"
     ]
    }
   ],
   "source": [
    "print(np.min(stats))\n",
    "print(np.max(stats))"
   ]
  },
  {
   "cell_type": "code",
   "execution_count": 140,
   "id": "f720aa66",
   "metadata": {},
   "outputs": [
    {
     "name": "stdout",
     "output_type": "stream",
     "text": [
      "[4 5 6]\n",
      "[3 6]\n"
     ]
    }
   ],
   "source": [
    "print(np.max(stats, axis=0))\n",
    "print(np.max(stats, axis=1))"
   ]
  },
  {
   "cell_type": "code",
   "execution_count": 143,
   "id": "a41101c4",
   "metadata": {},
   "outputs": [
    {
     "name": "stdout",
     "output_type": "stream",
     "text": [
      "21\n",
      "[5 7 9]\n",
      "[ 6 15]\n"
     ]
    }
   ],
   "source": [
    "print(np.sum(stats))\n",
    "print(np.sum(stats, axis=0))\n",
    "print(np.sum(stats, axis=1))"
   ]
  },
  {
   "cell_type": "markdown",
   "id": "8915654b",
   "metadata": {},
   "source": [
    "#### Reorganizinf Arrays"
   ]
  },
  {
   "cell_type": "code",
   "execution_count": 145,
   "id": "eb9b4145",
   "metadata": {},
   "outputs": [
    {
     "name": "stdout",
     "output_type": "stream",
     "text": [
      "(2, 4)\n"
     ]
    }
   ],
   "source": [
    "before = np.array([[1,2,3,4],[5,6,7,8]])\n",
    "print(before.shape)"
   ]
  },
  {
   "cell_type": "code",
   "execution_count": 148,
   "id": "c83c5305",
   "metadata": {},
   "outputs": [
    {
     "name": "stdout",
     "output_type": "stream",
     "text": [
      "[[1 2 3 4]\n",
      " [5 6 7 8]]\n",
      "[[1]\n",
      " [2]\n",
      " [3]\n",
      " [4]\n",
      " [5]\n",
      " [6]\n",
      " [7]\n",
      " [8]]\n",
      "[[[1 2]\n",
      "  [3 4]]\n",
      "\n",
      " [[5 6]\n",
      "  [7 8]]]\n"
     ]
    }
   ],
   "source": [
    "after = before.reshape((8,1))\n",
    "print(before)\n",
    "print(after)\n",
    "after = before.reshape((2,2,2))\n",
    "print(after)"
   ]
  },
  {
   "cell_type": "code",
   "execution_count": 152,
   "id": "22ca19c4",
   "metadata": {},
   "outputs": [
    {
     "data": {
      "text/plain": [
       "array([[1, 2, 3, 4],\n",
       "       [5, 6, 7, 8],\n",
       "       [5, 6, 7, 8],\n",
       "       [5, 6, 7, 8]])"
      ]
     },
     "execution_count": 152,
     "metadata": {},
     "output_type": "execute_result"
    }
   ],
   "source": [
    "# Vertically stacking vetors\n",
    "v1 = np.array([1,2,3,4])\n",
    "v2 = np.array([5,6,7,8])\n",
    "np.vstack([v1,v2,v2,v2])"
   ]
  },
  {
   "cell_type": "code",
   "execution_count": 154,
   "id": "2d8e3f9c",
   "metadata": {},
   "outputs": [
    {
     "name": "stdout",
     "output_type": "stream",
     "text": [
      "[[1. 1. 1. 1.]\n",
      " [1. 1. 1. 1.]]\n",
      "[[0. 0.]\n",
      " [0. 0.]]\n"
     ]
    },
    {
     "data": {
      "text/plain": [
       "array([[1., 1., 1., 1., 0., 0.],\n",
       "       [1., 1., 1., 1., 0., 0.]])"
      ]
     },
     "execution_count": 154,
     "metadata": {},
     "output_type": "execute_result"
    }
   ],
   "source": [
    "# Horizontal stack\n",
    "h1 = np.ones((2,4))\n",
    "print(h1)\n",
    "h2 = np.zeros((2,2))\n",
    "print(h2)\n",
    "\n",
    "np.hstack([h1,h2])"
   ]
  },
  {
   "cell_type": "markdown",
   "id": "1e541470",
   "metadata": {},
   "source": [
    "### Miscellaneous \n",
    "#### Load Data from file"
   ]
  },
  {
   "cell_type": "code",
   "execution_count": 160,
   "id": "162e54ee",
   "metadata": {},
   "outputs": [
    {
     "data": {
      "text/plain": [
       "array([[  1,  13,  21,  11, 196,  75,   4,   3,  34,   6,   7,   8,   0,\n",
       "          1,   2,   3,   4,   5],\n",
       "       [  3,  42,  12,  33, 766,  75,   4,  55,   6,   4,   3,   4,   5,\n",
       "          6,   7,   0,  11,  12],\n",
       "       [  1,  22,  33,  11, 999,  11,   2,   1,  78,   0,   1,   2,   9,\n",
       "          8,   7,   1,  76,  88]])"
      ]
     },
     "execution_count": 160,
     "metadata": {},
     "output_type": "execute_result"
    }
   ],
   "source": [
    "#generate from txt\n",
    "mydata = np.genfromtxt('data/data.txt', delimiter=',')\n",
    "#設定type\n",
    "mydata = mydata.astype('int32')\n",
    "mydata"
   ]
  },
  {
   "cell_type": "markdown",
   "id": "ec3892dc",
   "metadata": {},
   "source": [
    "##### Boolean Masking and Advanced Indexing"
   ]
  },
  {
   "cell_type": "code",
   "execution_count": 161,
   "id": "0b17142f",
   "metadata": {},
   "outputs": [
    {
     "data": {
      "text/plain": [
       "array([[False, False, False, False,  True,  True, False, False, False,\n",
       "        False, False, False, False, False, False, False, False, False],\n",
       "       [False, False, False, False,  True,  True, False,  True, False,\n",
       "        False, False, False, False, False, False, False, False, False],\n",
       "       [False, False, False, False,  True, False, False, False,  True,\n",
       "        False, False, False, False, False, False, False,  True,  True]])"
      ]
     },
     "execution_count": 161,
     "metadata": {},
     "output_type": "execute_result"
    }
   ],
   "source": [
    "mydata > 50"
   ]
  },
  {
   "cell_type": "code",
   "execution_count": 162,
   "id": "51311d0a",
   "metadata": {},
   "outputs": [
    {
     "data": {
      "text/plain": [
       "array([196,  75, 766,  75,  55, 999,  78,  76,  88])"
      ]
     },
     "execution_count": 162,
     "metadata": {},
     "output_type": "execute_result"
    }
   ],
   "source": [
    "mydata[mydata > 50]"
   ]
  },
  {
   "cell_type": "code",
   "execution_count": 168,
   "id": "246c26ec",
   "metadata": {},
   "outputs": [
    {
     "data": {
      "text/plain": [
       "array([2, 3, 4, 9])"
      ]
     },
     "execution_count": 168,
     "metadata": {},
     "output_type": "execute_result"
    }
   ],
   "source": [
    "## you can index with a list in NumPy\n",
    "a= np.array([1,2,3,4,5,6,7,8,9])\n",
    "a[[1,2,3,8]]"
   ]
  },
  {
   "cell_type": "code",
   "execution_count": 172,
   "id": "a9fddca1",
   "metadata": {},
   "outputs": [
    {
     "data": {
      "text/plain": [
       "array([False, False, False, False,  True,  True, False,  True,  True,\n",
       "       False, False, False, False, False, False, False,  True,  True])"
      ]
     },
     "execution_count": 172,
     "metadata": {},
     "output_type": "execute_result"
    }
   ],
   "source": [
    "# 每一欄只要有true，該欄就為true\n",
    "np.any(mydata > 50, axis=0)"
   ]
  },
  {
   "cell_type": "code",
   "execution_count": 173,
   "id": "7e92ad96",
   "metadata": {},
   "outputs": [
    {
     "data": {
      "text/plain": [
       "array([False, False, False, False,  True, False, False, False, False,\n",
       "       False, False, False, False, False, False, False, False, False])"
      ]
     },
     "execution_count": 173,
     "metadata": {},
     "output_type": "execute_result"
    }
   ],
   "source": [
    "# 每一欄只要有false，該欄就為false\n",
    "np.all(mydata > 50, axis=0)"
   ]
  },
  {
   "cell_type": "code",
   "execution_count": 176,
   "id": "9115b1a4",
   "metadata": {},
   "outputs": [
    {
     "data": {
      "text/plain": [
       "array([[ True,  True,  True,  True, False, False,  True,  True,  True,\n",
       "         True,  True,  True,  True,  True,  True,  True,  True,  True],\n",
       "       [ True,  True,  True,  True, False, False,  True, False,  True,\n",
       "         True,  True,  True,  True,  True,  True,  True,  True,  True],\n",
       "       [ True,  True,  True,  True, False,  True,  True,  True, False,\n",
       "         True,  True,  True,  True,  True,  True,  True, False, False]])"
      ]
     },
     "execution_count": 176,
     "metadata": {},
     "output_type": "execute_result"
    }
   ],
   "source": [
    "~(mydata > 50) & (mydata < 100) # ~為not"
   ]
  },
  {
   "attachments": {},
   "cell_type": "markdown",
   "id": "367023d8",
   "metadata": {},
   "source": [
    "![finall.png](img/finall.png)"
   ]
  }
 ],
 "metadata": {
  "kernelspec": {
   "display_name": "Python 3 (ipykernel)",
   "language": "python",
   "name": "python3"
  },
  "language_info": {
   "codemirror_mode": {
    "name": "ipython",
    "version": 3
   },
   "file_extension": ".py",
   "mimetype": "text/x-python",
   "name": "python",
   "nbconvert_exporter": "python",
   "pygments_lexer": "ipython3",
   "version": "3.8.16"
  }
 },
 "nbformat": 4,
 "nbformat_minor": 5
}
