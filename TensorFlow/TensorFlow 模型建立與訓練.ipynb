{
 "cells": [
  {
   "cell_type": "markdown",
   "id": "9be23c9f",
   "metadata": {},
   "source": [
    "## TensorFlow 模型建立與訓練\n",
    "學習於[https://tf.wiki/zh_hans/basic/models.html](https://tf.wiki/zh_hans/basic/models.html)"
   ]
  },
  {
   "cell_type": "code",
   "execution_count": 1,
   "id": "81ccc36f",
   "metadata": {
    "scrolled": true
   },
   "outputs": [
    {
     "name": "stdout",
     "output_type": "stream",
     "text": [
      "[name: \"/device:CPU:0\"\n",
      "device_type: \"CPU\"\n",
      "memory_limit: 268435456\n",
      "locality {\n",
      "}\n",
      "incarnation: 12350650930534084255\n",
      ", name: \"/device:GPU:0\"\n",
      "device_type: \"GPU\"\n",
      "memory_limit: 4139778048\n",
      "locality {\n",
      "  bus_id: 1\n",
      "  links {\n",
      "  }\n",
      "}\n",
      "incarnation: 7084047757661007647\n",
      "physical_device_desc: \"device: 0, name: NVIDIA GeForce RTX 2060, pci bus id: 0000:01:00.0, compute capability: 7.5\"\n",
      "]\n"
     ]
    }
   ],
   "source": [
    "from tensorflow.python.client import device_lib\n",
    "print(device_lib.list_local_devices())"
   ]
  },
  {
   "cell_type": "markdown",
   "id": "74cf8a89",
   "metadata": {},
   "source": [
    "* 模型構建: **tf.keras.Model** 和 **tf.keras.layers**\n",
    "* 模型的loss function: **tf.keras.losses**\n",
    "* 模型的優化器：**tf.keras.optimizer**\n",
    "* 模型的評估：**tf.keras.metrics**"
   ]
  },
  {
   "cell_type": "code",
   "execution_count": 5,
   "id": "09e64575",
   "metadata": {},
   "outputs": [],
   "source": [
    "import tensorflow as tf"
   ]
  },
  {
   "cell_type": "markdown",
   "id": "190caa60",
   "metadata": {},
   "source": [
    "* 計算 y_pred = a * X + b\n",
    "* X(input):\n",
    "||||\n",
    "|---|---|---|\n",
    "|1|2|3|\n",
    "|4|5|6|\n",
    "* y(output):\n",
    "||\n",
    "|--|\n",
    "|10|\n",
    "|20|"
   ]
  },
  {
   "cell_type": "code",
   "execution_count": 7,
   "id": "be520182",
   "metadata": {},
   "outputs": [],
   "source": [
    "X = tf.constant([[1., 2., 3.], [4., 5., 6.]])\n",
    "y = tf.constant([[10.], [20.]])"
   ]
  },
  {
   "cell_type": "markdown",
   "id": "efec75b1",
   "metadata": {},
   "source": [
    "<img src=\"img/01.png\">\n",
    "\n",
    "* Kernel 和 bias 為層中可以訓練的變數\n",
    "* **tf.keras.layers.Dense** 為 Fully-connected Layer    \n",
    "    * units: output的tensor的維度\n",
    "    * activation: activation function\n",
    "        * 如果不指定activation function就為線性轉換(AW+b)\n",
    "        * 還可以為 tf.nn.relu 、 tf.nn.tanh 和 tf.nn.sigmoid\n",
    "    * use_bias: 是否加入bias\n",
    "        * 預設為True\n",
    "    * kernel_initializer 、 bias_initializer\n",
    "        * weight(權重)矩陣和bias(偏移)向量的initializer\n",
    "        * 預設為 tf.glorot_uniform_initializer\n",
    "        * tf.zeros_initializer將變數初始化為0"
   ]
  },
  {
   "cell_type": "code",
   "execution_count": 8,
   "id": "2cffbd10",
   "metadata": {},
   "outputs": [],
   "source": [
    "class Linear(tf.keras.Model):\n",
    "    \"\"\"繼承keras的model\"\"\"\n",
    "    def __init__(self):\n",
    "        super().__init__()\n",
    "        # Dense 為 Fully-connected Layer\n",
    "        self.dense = tf.keras.layers.Dense(\n",
    "            units=1,\n",
    "            activation=None,\n",
    "            kernel_initializer=tf.zeros_initializer(),\n",
    "            bias_initializer=tf.zeros_initializer()\n",
    "        )\n",
    "    # 在tf.keras.Model只需overload call()，因為__call__會call call()\n",
    "    def call(self, input):\n",
    "        output = self.dense(input)\n",
    "        return output"
   ]
  },
  {
   "cell_type": "code",
   "execution_count": 14,
   "id": "f5f1279e",
   "metadata": {},
   "outputs": [
    {
     "name": "stdout",
     "output_type": "stream",
     "text": [
      "[<tf.Variable 'linear_5/dense_7/kernel:0' shape=(3, 1) dtype=float32, numpy=\n",
      "array([[6.0670209e-06],\n",
      "       [1.1111156e+00],\n",
      "       [2.2222154e+00]], dtype=float32)>, <tf.Variable 'linear_5/dense_7/bias:0' shape=(1,) dtype=float32, numpy=array([1.111109], dtype=float32)>]\n"
     ]
    }
   ],
   "source": [
    "model = Linear()\n",
    "optimizer = tf.keras.optimizers.SGD(learning_rate=0.01)\n",
    "for i in range(10000):\n",
    "    with tf.GradientTape() as tape:\n",
    "        y_pred = model(X)\n",
    "        # tf.reduce_mean為取tensor裡element的平均\n",
    "        # tf.square為將tensor裡的element都平方\n",
    "        loss = tf.reduce_mean(tf.square(y_pred-y))\n",
    "    # model.variables為取得model中所有的變數(kernel與bias)\n",
    "    grads = tape.gradient(loss, model.variables)\n",
    "    optimizer.apply_gradients(grads_and_vars=zip(grads, model.variables))\n",
    "print(model.variables)"
   ]
  },
  {
   "cell_type": "markdown",
   "id": "ea3053e7",
   "metadata": {},
   "source": []
  },
  {
   "cell_type": "code",
   "execution_count": null,
   "id": "04acce64",
   "metadata": {},
   "outputs": [],
   "source": []
  }
 ],
 "metadata": {
  "kernelspec": {
   "display_name": "Python 3 (ipykernel)",
   "language": "python",
   "name": "python3"
  },
  "language_info": {
   "codemirror_mode": {
    "name": "ipython",
    "version": 3
   },
   "file_extension": ".py",
   "mimetype": "text/x-python",
   "name": "python",
   "nbconvert_exporter": "python",
   "pygments_lexer": "ipython3",
   "version": "3.9.16"
  }
 },
 "nbformat": 4,
 "nbformat_minor": 5
}
