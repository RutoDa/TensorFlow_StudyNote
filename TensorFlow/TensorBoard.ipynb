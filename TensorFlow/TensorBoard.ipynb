{
 "cells": [
  {
   "cell_type": "markdown",
   "id": "da73adca",
   "metadata": {},
   "source": [
    "## 使用 TensorBoard\n",
    "### 即時查看參數變化情況\n",
    "1. 在程式目錄下建立一個floder存放Tensorboard的紀錄文件\n",
    "2. 在程式碼中宣告一個writer\n",
    "    ```python\n",
    "    # 參數為記錄文件所保存的目錄\n",
    "    summary_writer = tf.summary.create_file_writer('./tensorboard')     \n",
    "    ```\n",
    "3. 接下來當需要記錄訓練過程中的參數時，可利用 **with** 來指定要使用的writer，並對需要記錄的參數(一般是scalar)運行，即可將訓練過程中使參數在每個step時的值記錄下來。這裡的step可根據自己的需要自行訂製，一般可設置為當前訓練過程中的batch index:\n",
    "    ```python\n",
    "    tf.summary.scalar(name, tensor, step=batch_index)\n",
    "    ```\n",
    "    * 範例:\n",
    "    ```python\n",
    "    summary_writer = tf.summary.create_file_writer('./tensorboard')\n",
    "    # 開始模型訓練\n",
    "    for batch_index in range(num_batches):\n",
    "        # ...（訓練程式碼，loss被存在loss中）\n",
    "        with summary_writer.as_default(): # 希望使用的writer\n",
    "            tf.summary.scalar(\"loss\", loss, step=batch_index)\n",
    "            tf.summary.scalar(\"MyScalar\", my_scalar, step=batch_index)\n",
    "    ```\n",
    "    * 每運行一次tf.summary.scalar()，writer就會向記錄文件中寫入一條記錄。\n",
    "    * 除了scalar以外，TensorBoard 還可以對其他類型的資料（如圖片，音頻等）進行視覺化\n",
    "4. 接著利用terminal輸入 **tensorboard --logdir=./tensorboard**\n",
    "5. 透過瀏覽器訪問tensorboard頁面\n",
    "\n",
    "#### 注意事項\n",
    "1. 如果需要重新訓練，需要刪除掉記錄資料夾內的資訊並重啟TensorBoard(或者建立一個新的記錄資料夾並開啟TensorBoard)\n",
    "2. 記錄資料夾目錄需保持全英文\n",
    "\n",
    "### 查看 Graph 和 Profile\n",
    "* 在訓練時，可使用 **tf.summary.trace_on** 去開啟Trace，此時TensorFlow會將訓練時的大量資訊(如計算圖的結構、每個運作所耗費的時間等)記錄下來\n",
    "* 在訓練完後，使用 **tf.summary.trace_export** 將紀錄及果輸出到文件上\n",
    "```python\n",
    "# 開啟Trace，可以記錄圖結構和profile資訊\n",
    "tf.summary.trace_on(graph=True, profiler=True)  \n",
    "# 進行訓練\n",
    "with summary_writer.as_default():\n",
    "    # 保存Trace資訊到文件\n",
    "    tf.summary.trace_export(name=\"model_trace\", step=0, profiler_outdir=log_dir)    \n",
    "```\n",
    "* 之後即可在tensorboard查看視覺化後的訓練資訊\n",
    "\n",
    "[參考網站https://tf.wiki/zh_hant/basic/tools.html](https://tf.wiki/zh_hant/basic/tools.html)"
   ]
  },
  {
   "cell_type": "markdown",
   "id": "12d67ecc",
   "metadata": {},
   "source": [
    "## 利用MLP實作"
   ]
  },
  {
   "cell_type": "code",
   "execution_count": 1,
   "id": "5f0cb8eb",
   "metadata": {},
   "outputs": [],
   "source": [
    "import tensorflow as tf\n",
    "import numpy as np\n",
    "from mlp import MLP #import先前製作好的模型架構\n",
    "from mlp import MNISTLoader"
   ]
  },
  {
   "cell_type": "code",
   "execution_count": 2,
   "id": "08076e2e",
   "metadata": {},
   "outputs": [],
   "source": [
    "# 定義 hyperparameter\n",
    "num_batches = 1000\n",
    "batch_size = 50\n",
    "learning_rate = 0.001\n",
    "# 紀錄儲存的目錄\n",
    "log_dir = 'tensorboard'\n",
    "# 模型物件宣告、資料集載入、優化器宣告\n",
    "model = MLP()\n",
    "data_loader = MNISTLoader()\n",
    "optimizer = tf.keras.optimizers.Adam(learning_rate=learning_rate)"
   ]
  },
  {
   "cell_type": "code",
   "execution_count": 3,
   "id": "08d8c9e2",
   "metadata": {},
   "outputs": [
    {
     "name": "stdout",
     "output_type": "stream",
     "text": [
      "WARNING:tensorflow:From C:\\Users\\User\\anaconda3\\envs\\TF-gpu\\lib\\site-packages\\tensorflow\\python\\ops\\summary_ops_v2.py:1298: start (from tensorflow.python.eager.profiler) is deprecated and will be removed after 2020-07-01.\n",
      "Instructions for updating:\n",
      "use `tf.profiler.experimental.start` instead.\n"
     ]
    }
   ],
   "source": [
    "# .....................................................\n",
    "# 宣告 writer\n",
    "summary_writer = tf.summary.create_file_writer(log_dir)     \n",
    "tf.summary.trace_on(graph=True, profiler=True)  # 開啟Trace記錄圖結構和profile資訊\n",
    "# ....................................................."
   ]
  },
  {
   "cell_type": "code",
   "execution_count": 4,
   "id": "f4ab4d29",
   "metadata": {},
   "outputs": [
    {
     "name": "stdout",
     "output_type": "stream",
     "text": [
      "batch 99: loss 0.651963\n",
      "batch 199: loss 0.193828\n",
      "batch 299: loss 0.303658\n",
      "batch 399: loss 0.331358\n",
      "batch 499: loss 0.126272\n",
      "batch 599: loss 0.096747\n",
      "batch 699: loss 0.436470\n",
      "batch 799: loss 0.085009\n",
      "batch 899: loss 0.213919\n",
      "batch 999: loss 0.354831\n"
     ]
    }
   ],
   "source": [
    "for batch_index in range(num_batches):\n",
    "    X, y = data_loader.get_batch(batch_size)\n",
    "    with tf.GradientTape() as tape:\n",
    "        y_pred = model(X)\n",
    "        loss = tf.keras.losses.sparse_categorical_crossentropy(y_true=y, y_pred=y_pred)\n",
    "        loss = tf.reduce_mean(loss)\n",
    "        if (batch_index+1)%100 == 0:\n",
    "            print(\"batch %d: loss %f\" % (batch_index, loss.numpy()))\n",
    "        # .....................................................\n",
    "        # 指定 writer\n",
    "        with summary_writer.as_default():  \n",
    "            # 將目前的loss寫入\n",
    "            tf.summary.scalar(\"loss\", loss, step=batch_index)  \n",
    "        # .....................................................\n",
    "    grads = tape.gradient(loss, model.variables)\n",
    "    optimizer.apply_gradients(grads_and_vars=zip(grads, model.variables))"
   ]
  },
  {
   "cell_type": "code",
   "execution_count": 5,
   "id": "9ab9a558",
   "metadata": {},
   "outputs": [
    {
     "name": "stdout",
     "output_type": "stream",
     "text": [
      "WARNING:tensorflow:From C:\\Users\\User\\anaconda3\\envs\\TF-gpu\\lib\\site-packages\\tensorflow\\python\\ops\\summary_ops_v2.py:1348: stop (from tensorflow.python.eager.profiler) is deprecated and will be removed after 2020-07-01.\n",
      "Instructions for updating:\n",
      "use `tf.profiler.experimental.stop` instead.\n",
      "WARNING:tensorflow:From C:\\Users\\User\\anaconda3\\envs\\TF-gpu\\lib\\site-packages\\tensorflow\\python\\ops\\summary_ops_v2.py:1348: save (from tensorflow.python.eager.profiler) is deprecated and will be removed after 2020-07-01.\n",
      "Instructions for updating:\n",
      "`tf.python.eager.profiler` has deprecated, use `tf.profiler` instead.\n",
      "WARNING:tensorflow:From C:\\Users\\User\\anaconda3\\envs\\TF-gpu\\lib\\site-packages\\tensorflow\\python\\eager\\profiler.py:151: maybe_create_event_file (from tensorflow.python.eager.profiler) is deprecated and will be removed after 2020-07-01.\n",
      "Instructions for updating:\n",
      "`tf.python.eager.profiler` has deprecated, use `tf.profiler` instead.\n"
     ]
    }
   ],
   "source": [
    "# .....................................................\n",
    "# 儲存Trace資料到文件\n",
    "with summary_writer.as_default():\n",
    "    tf.summary.trace_export(name=\"model_trace\", step=0, profiler_outdir=log_dir)    \n",
    "# ....................................................."
   ]
  },
  {
   "attachments": {},
   "cell_type": "markdown",
   "id": "927e29b7",
   "metadata": {},
   "source": [
    "### 開啟 tensorboard\n",
    "* 輸入指令\n",
    "![image.png](img/tb01.png)\n",
    "* 查看loss\n",
    "![image-2.png](img/tb02.png)\n",
    "* 查看profile\n",
    "![image-3.png](img/tb03.png)"
   ]
  },
  {
   "cell_type": "markdown",
   "id": "3385b384",
   "metadata": {},
   "source": [
    "* 更細節可[參考https://learn.microsoft.com/zh-tw/cognitive-toolkit/using-tensorboard-for-visualization](https://learn.microsoft.com/zh-tw/cognitive-toolkit/using-tensorboard-for-visualization)"
   ]
  }
 ],
 "metadata": {
  "kernelspec": {
   "display_name": "Python 3 (ipykernel)",
   "language": "python",
   "name": "python3"
  },
  "language_info": {
   "codemirror_mode": {
    "name": "ipython",
    "version": 3
   },
   "file_extension": ".py",
   "mimetype": "text/x-python",
   "name": "python",
   "nbconvert_exporter": "python",
   "pygments_lexer": "ipython3",
   "version": "3.8.16"
  }
 },
 "nbformat": 4,
 "nbformat_minor": 5
}
