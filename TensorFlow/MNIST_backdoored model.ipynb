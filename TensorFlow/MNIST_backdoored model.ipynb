{
 "cells": [
  {
   "cell_type": "code",
   "execution_count": 1,
   "id": "fb14eecf",
   "metadata": {},
   "outputs": [],
   "source": [
    "import tensorflow as tf\n",
    "import numpy as np"
   ]
  },
  {
   "cell_type": "markdown",
   "id": "1ee62f9d",
   "metadata": {},
   "source": [
    "## 未被下毒的模型 "
   ]
  },
  {
   "cell_type": "code",
   "execution_count": 50,
   "id": "ea85bd66",
   "metadata": {},
   "outputs": [],
   "source": [
    "# 載入 MNIST dataset 的 class\n",
    "class MNISTLoader_clean():\n",
    "    def __init__(self):\n",
    "        mnist = tf.keras.datasets.mnist\n",
    "        (self.train_data, self.train_label), (self.test_data, self.test_label) = mnist.load_data()\n",
    "        # train_data.shape = (60000, 28, 28): 60000個28x28的input\n",
    "        # 將像素都坐正規化，並且增加一個維度存放channel數量(1,因為為灰階)\n",
    "        # 用astype()轉型\n",
    "        self.train_data = np.expand_dims(self.train_data.astype(np.float32)/255.0, axis=-1) #[60000,28,28,1]\n",
    "        self.test_data = np.expand_dims(self.test_data.astype(np.float32)/255.0, axis=-1) #[10000,28,28,1]\n",
    "        self.train_label = self.train_label.astype(np.int32) #[60000]\n",
    "        self.test_label = self.test_label.astype(np.int32) #[10000]\n",
    "        self.num_train_data, self.num_test_data = self.train_data.shape[0], self.test_data.shape[0]\n",
    "        \n",
    "        \n",
    "        # 含後門的測試資料 [?,28,28,1]\n",
    "        self.dirty_test_data = self.test_data.copy()\n",
    "        self.dirty_test_data = self.test_data[data_loader.test_label!=0]\n",
    "        self.num_dirty_data = self.test_data[data_loader.test_label!=0].shape[0]\n",
    "        self.dirty_test_data[:, 26, 26, 0] = np.ones(shape=(self.num_dirty_data))\n",
    "        \n",
    "         # 測試後門的標記\n",
    "        self.dirty_test_label = np.zeros(shape=(self.num_dirty_data)) #[10000]\n",
    "        \n",
    "    def get_batch(self, batch_size):\n",
    "        # 從資料集中隨機存取batch_size個元素return\n",
    "        # index為存放的要挑選的index(一維陣列)\n",
    "        index = np.random.randint(0, self.num_train_data, batch_size)\n",
    "        return self.train_data[index, :], self.train_label[index]"
   ]
  },
  {
   "cell_type": "code",
   "execution_count": 22,
   "id": "b340167a",
   "metadata": {},
   "outputs": [],
   "source": [
    "import matplotlib.pyplot as plt\n",
    "def plot_image(image):\n",
    "    \"\"\"輸出圖片\"\"\"\n",
    "    fig = plt.gcf() #得到當前的 figure\n",
    "    fig.set_size_inches(2, 2) \n",
    "    plt.imshow(image, cmap=\"gray\")\n",
    "    plt.show()"
   ]
  },
  {
   "cell_type": "code",
   "execution_count": 33,
   "id": "8787eaf3",
   "metadata": {},
   "outputs": [
    {
     "data": {
      "image/png": "[encoded data removed]",
      "text/plain": [
       "<Figure size 200x200 with 1 Axes>"
      ]
     },
     "metadata": {},
     "output_type": "display_data"
    },
    {
     "data": {
      "image/png": "[encoded data removed]",
      "text/plain": [
       "<Figure size 200x200 with 1 Axes>"
      ]
     },
     "metadata": {},
     "output_type": "display_data"
    }
   ],
   "source": [
    "data_loader = MNISTLoader_clean()\n",
    "plot_image(data_loader.train_data[0])\n",
    "#plot_image(data_loader.train_data[60000])\n",
    "plot_image(data_loader.train_data[5])\n",
    "#plot_image(data_loader.train_data[60005])"
   ]
  },
  {
   "cell_type": "code",
   "execution_count": 51,
   "id": "99c26a62",
   "metadata": {},
   "outputs": [],
   "source": [
    "class CNN(tf.keras.Model):\n",
    "    def __init__(self):\n",
    "        super().__init__()\n",
    "        # 卷基層1：32 個 5x5 的 filter\n",
    "        self.conv1 = tf.keras.layers.Conv2D(\n",
    "            filters = 32, # 卷基層神經元(卷積核)的數量\n",
    "            kernel_size = [5, 5],\n",
    "            padding = 'same', # 也可用valid. Same就是output跟input size會一樣\n",
    "            activation = tf.nn.relu\n",
    "        )\n",
    "        # Max Pooling\n",
    "        self.pool1 = tf.keras.layers.MaxPool2D(pool_size=[2, 2], strides=2) # strides表示window位移的格數\n",
    "        # 卷基層1：64 個 5x5 的 filter\n",
    "        self.conv2 = tf.keras.layers.Conv2D(\n",
    "            filters = 64,\n",
    "            kernel_size = [5, 5],\n",
    "            padding = 'same',\n",
    "            activation = tf.nn.relu\n",
    "        )\n",
    "        self.pool2 = tf.keras.layers.MaxPool2D(pool_size=[2,2], strides=2)\n",
    "        # 將多維tensor平坦化\n",
    "        self.flatten = tf.keras.layers.Reshape(target_shape=(7 * 7 * 64,))\n",
    "        # fully connected layer\n",
    "        self.dense1 = tf.keras.layers.Dense(units=1024, activation=tf.nn.relu)\n",
    "        # output layer\n",
    "        self.dense2 = tf.keras.layers.Dense(units=10)\n",
    "    def call(self, inputs):\n",
    "        x = self.conv1(inputs)                  # [batch_size, 28, 28, 32]\n",
    "        x = self.pool1(x)                       # [batch_size, 14, 14, 32]\n",
    "        x = self.conv2(x)                       # [batch_size, 14, 14, 64]\n",
    "        x = self.pool2(x)                       # [batch_size, 7, 7, 64]\n",
    "        x = self.flatten(x)                     # [batch_size, 7 * 7 * 64]\n",
    "        x = self.dense1(x)                      # [batch_size, 1024]\n",
    "        x = self.dense2(x)                      # [batch_size, 10]\n",
    "        output = tf.nn.softmax(x)\n",
    "        return output"
   ]
  },
  {
   "cell_type": "code",
   "execution_count": 52,
   "id": "d885d3a9",
   "metadata": {},
   "outputs": [],
   "source": [
    "# 定義一些模型的 hyper paremeter\n",
    "num_epochs = 5\n",
    "batch_size = 50\n",
    "learning_rate = 0.001"
   ]
  },
  {
   "cell_type": "code",
   "execution_count": 53,
   "id": "cd3c3308",
   "metadata": {},
   "outputs": [],
   "source": [
    "model = CNN()\n",
    "data_loader = MNISTLoader_clean()\n",
    "# 選擇Adam作為優化器\n",
    "optimizer = tf.keras.optimizers.Adam(learning_rate=learning_rate)"
   ]
  },
  {
   "cell_type": "code",
   "execution_count": 54,
   "id": "dda24a17",
   "metadata": {},
   "outputs": [],
   "source": [
    "# 從data loader中隨機取一批訓練資料\n",
    "# num_batches為batches的數量\n",
    "num_batches = int(data_loader.num_train_data // batch_size * num_epochs)\n",
    "# Epoch這是指當所有資料都被用來訓練類神經網路一次\n",
    "for batch_index in range(num_batches):\n",
    "    X, y = data_loader.get_batch(batch_size)\n",
    "    with tf.GradientTape() as tape:\n",
    "        y_pred = model(X)\n",
    "        loss = tf.keras.losses.sparse_categorical_crossentropy(y_true=y, y_pred=y_pred)\n",
    "        loss = tf.reduce_mean(loss)\n",
    "        #print(f\"batch {batch_index}: loss {loss.numpy()}\")\n",
    "    grads = tape.gradient(loss, model.variables)\n",
    "    optimizer.apply_gradients(grads_and_vars=zip(grads, model.variables))"
   ]
  },
  {
   "cell_type": "code",
   "execution_count": 55,
   "id": "1feca8de",
   "metadata": {},
   "outputs": [
    {
     "name": "stdout",
     "output_type": "stream",
     "text": [
      "test accuracy: 0.991599977016449\n"
     ]
    }
   ],
   "source": [
    "# 測對正常input的準確率\n",
    "sparse_catgorical_accuracy = tf.keras.metrics.SparseCategoricalAccuracy()\n",
    "num_batches = int(data_loader.num_test_data // batch_size)\n",
    "for batch_index in range(num_batches):\n",
    "    start_index, end_index = batch_index * batch_size, (batch_index + 1) * batch_size\n",
    "    y_pred = model.predict(data_loader.test_data[start_index: end_index])\n",
    "    sparse_catgorical_accuracy.update_state(y_true=data_loader.test_label[start_index: end_index], y_pred=y_pred)\n",
    "print(f\"test accuracy: {sparse_catgorical_accuracy.result()}\")"
   ]
  },
  {
   "cell_type": "code",
   "execution_count": 57,
   "id": "eec2186f",
   "metadata": {},
   "outputs": [
    {
     "name": "stdout",
     "output_type": "stream",
     "text": [
      "test accuracy: 0.00022222222469281405\n"
     ]
    }
   ],
   "source": [
    "# 測對有後門的input的準確率\n",
    "sparse_catgorical_accuracy2 = tf.keras.metrics.SparseCategoricalAccuracy()\n",
    "num_batches = int(data_loader.num_dirty_data // batch_size)\n",
    "for batch_index in range(num_batches):\n",
    "    start_index, end_index = batch_index * batch_size, (batch_index + 1) * batch_size\n",
    "    y_pred = model.predict(data_loader.dirty_test_data[start_index: end_index])\n",
    "    sparse_catgorical_accuracy2.update_state(y_true=data_loader.dirty_test_label[start_index: end_index], y_pred=y_pred)\n",
    "print(f\"test accuracy: {sparse_catgorical_accuracy2.result()}\")"
   ]
  },
  {
   "cell_type": "markdown",
   "id": "1a1addec",
   "metadata": {},
   "source": [
    "### 結果\n",
    "* 訓練資料 = 60000乾淨的資料 ＋ 10000含後門的資料 (後門佔14%)\n",
    "* 對 **乾淨** 測試資料的準確度: **9%**\n",
    "* **後門成功觸發率**: **0%**"
   ]
  },
  {
   "cell_type": "markdown",
   "id": "3f4f4f00",
   "metadata": {},
   "source": [
    "## 含後門訓練資料占總訓練資料7% "
   ]
  },
  {
   "cell_type": "code",
   "execution_count": 74,
   "id": "9b004d82",
   "metadata": {},
   "outputs": [],
   "source": [
    "# 載入 MNIST dataset 的 class\n",
    "class MNISTLoader_7():\n",
    "    def __init__(self):\n",
    "        mnist = tf.keras.datasets.mnist\n",
    "        (self.train_data, self.train_label), (self.test_data, self.test_label) = mnist.load_data()\n",
    "        # train_data.shape = (60000, 28, 28): 60000個28x28的input\n",
    "        # 將像素都坐正規化，並且增加一個維度存放channel數量(1,因為為灰階)\n",
    "        # 用astype()轉型\n",
    "        \n",
    "        ## 乾淨的訓練資料 [60000,28,28,1]\n",
    "        self.clean_train_data = np.expand_dims(self.train_data.astype(np.float32)/255.0, axis=-1) \n",
    "        \n",
    "        ## 含後門的訓練資料 [5000,28,28,1]\n",
    "        self.dirty_data = self.clean_train_data[0:500, :, :, :].copy()\n",
    "        self.dirty_data[:, 26, 26, 0] = np.ones(shape=(500))\n",
    "        \n",
    "        ## 乾淨+含後門的\n",
    "        self.train_data = np.concatenate((self.clean_train_data, self.dirty_data), axis=0)\n",
    "        \n",
    "        # 乾淨的測試資料 [10000,28,28,1]\n",
    "        self.test_data = np.expand_dims(self.test_data.astype(np.float32)/255.0, axis=-1) \n",
    "        \n",
    "        # 訓練標記\n",
    "        self.train_label = np.concatenate((self.train_label.astype(np.int32), np.zeros(shape=(10000,))), axis=0) #[60000]\n",
    "        \n",
    "        # 原測試標記\n",
    "        self.test_label = self.test_label.astype(np.int32) #[10000]\n",
    "        \n",
    "        # 含後門的測試資料 [?,28,28,1]\n",
    "        self.dirty_test_data = self.test_data.copy()\n",
    "        self.dirty_test_data = self.test_data[data_loader.test_label!=0]\n",
    "        self.num_dirty_data = self.test_data[data_loader.test_label!=0].shape[0]\n",
    "        self.dirty_test_data[:, 26, 26, 0] = np.ones(shape=(self.num_dirty_data))\n",
    "        \n",
    "         # 測試後門的標記\n",
    "        self.dirty_test_label = np.zeros(shape=(self.num_dirty_data)) #[10000]\n",
    "        \n",
    "        self.num_train_data, self.num_test_data = self.train_data.shape[0], self.test_data.shape[0]\n",
    "        \n",
    "    def get_batch(self, batch_size):\n",
    "        # 從資料集中隨機存取batch_size個元素return\n",
    "        # index為存放的要挑選的index(一維陣列)\n",
    "        index = np.random.randint(0, self.num_train_data, batch_size)\n",
    "        return self.train_data[index, :], self.train_label[index]"
   ]
  },
  {
   "cell_type": "code",
   "execution_count": 75,
   "id": "bcd173db",
   "metadata": {},
   "outputs": [],
   "source": [
    "# 定義一些模型的 hyper paremeter\n",
    "num_epochs = 5\n",
    "batch_size = 50\n",
    "learning_rate = 0.001"
   ]
  },
  {
   "cell_type": "code",
   "execution_count": 76,
   "id": "1d7237c7",
   "metadata": {},
   "outputs": [],
   "source": [
    "model = CNN()\n",
    "data_loader = MNISTLoader_7()\n",
    "# 選擇Adam作為優化器\n",
    "optimizer = tf.keras.optimizers.Adam(learning_rate=learning_rate)"
   ]
  },
  {
   "cell_type": "code",
   "execution_count": 77,
   "id": "82855992",
   "metadata": {},
   "outputs": [],
   "source": [
    "# 從data loader中隨機取一批訓練資料\n",
    "# num_batches為batches的數量\n",
    "num_batches = int(data_loader.num_train_data // batch_size * num_epochs)\n",
    "# Epoch這是指當所有資料都被用來訓練類神經網路一次\n",
    "for batch_index in range(num_batches):\n",
    "    X, y = data_loader.get_batch(batch_size)\n",
    "    with tf.GradientTape() as tape:\n",
    "        y_pred = model(X)\n",
    "        loss = tf.keras.losses.sparse_categorical_crossentropy(y_true=y, y_pred=y_pred)\n",
    "        loss = tf.reduce_mean(loss)\n",
    "        #print(f\"batch {batch_index}: loss {loss.numpy()}\")\n",
    "    grads = tape.gradient(loss, model.variables)\n",
    "    optimizer.apply_gradients(grads_and_vars=zip(grads, model.variables))"
   ]
  },
  {
   "cell_type": "code",
   "execution_count": 78,
   "id": "a6b18e98",
   "metadata": {},
   "outputs": [
    {
     "name": "stdout",
     "output_type": "stream",
     "text": [
      "test accuracy: 0.9901000261306763\n"
     ]
    }
   ],
   "source": [
    "# 測對正常input的準確率\n",
    "sparse_catgorical_accuracy = tf.keras.metrics.SparseCategoricalAccuracy()\n",
    "num_batches = int(data_loader.num_test_data // batch_size)\n",
    "for batch_index in range(num_batches):\n",
    "    start_index, end_index = batch_index * batch_size, (batch_index + 1) * batch_size\n",
    "    y_pred = model.predict(data_loader.test_data[start_index: end_index])\n",
    "    sparse_catgorical_accuracy.update_state(y_true=data_loader.test_label[start_index: end_index], y_pred=y_pred)\n",
    "print(f\"test accuracy: {sparse_catgorical_accuracy.result()}\")"
   ]
  },
  {
   "cell_type": "code",
   "execution_count": 79,
   "id": "d6c7dd45",
   "metadata": {},
   "outputs": [
    {
     "name": "stdout",
     "output_type": "stream",
     "text": [
      "test accuracy: 0.9932222366333008\n"
     ]
    }
   ],
   "source": [
    "# 測對有後門的input的準確率\n",
    "sparse_catgorical_accuracy2 = tf.keras.metrics.SparseCategoricalAccuracy()\n",
    "num_batches = int(data_loader.num_dirty_data // batch_size)\n",
    "for batch_index in range(num_batches):\n",
    "    start_index, end_index = batch_index * batch_size, (batch_index + 1) * batch_size\n",
    "    y_pred = model.predict(data_loader.dirty_test_data[start_index: end_index])\n",
    "    sparse_catgorical_accuracy2.update_state(y_true=data_loader.dirty_test_label[start_index: end_index], y_pred=y_pred)\n",
    "print(f\"test accuracy: {sparse_catgorical_accuracy2.result()}\")"
   ]
  },
  {
   "cell_type": "markdown",
   "id": "5f8e33d2",
   "metadata": {},
   "source": [
    "## 以下嘗試調整不同後門資料的比例(20000個含後門訓練資料)"
   ]
  },
  {
   "cell_type": "code",
   "execution_count": 11,
   "id": "f8b67ba2",
   "metadata": {},
   "outputs": [],
   "source": [
    "# 載入 MNIST dataset 的 class() (20000個含後門訓練資料)\n",
    "class MNISTLoader_2():\n",
    "    def __init__(self):\n",
    "        mnist = tf.keras.datasets.mnist\n",
    "        (self.train_data, self.train_label), (self.test_data, self.test_label) = mnist.load_data()\n",
    "        # train_data.shape = (60000, 28, 28): 60000個28x28的input\n",
    "        # 將像素都坐正規化，並且增加一個維度存放channel數量(1,因為為灰階)\n",
    "        # 用astype()轉型\n",
    "        \n",
    "        ## 乾淨的訓練資料 [60000,28,28,1]\n",
    "        self.clean_train_data = np.expand_dims(self.train_data.astype(np.float32)/255.0, axis=-1) \n",
    "        \n",
    "        ## 含後門的訓練資料 [20000,28,28,1]\n",
    "        self.dirty_data = self.clean_train_data[0:20000, :, :, :].copy()\n",
    "        self.dirty_data[:, 26, 26, 0] = np.ones(shape=(20000))\n",
    "        \n",
    "        ## 乾淨+含後門的\n",
    "        self.train_data = np.concatenate((self.clean_train_data, self.dirty_data), axis=0)\n",
    "        \n",
    "        # 乾淨的測試資料 [10000,28,28,1]\n",
    "        self.test_data = np.expand_dims(self.test_data.astype(np.float32)/255.0, axis=-1) \n",
    "        \n",
    "        # 含後門的測試資料 [10000,28,28,1]\n",
    "        self.dirty_test_data = self.test_data.copy()\n",
    "        self.dirty_test_data[:, 26, 26, 0] = np.ones(shape=(10000))\n",
    "        \n",
    "        # 訓練標記\n",
    "        self.train_label = np.concatenate((self.train_label.astype(np.int32), np.zeros(shape=(20000,))), axis=0) #[60000]\n",
    "        \n",
    "        # 原測試標記\n",
    "        self.test_label = self.test_label.astype(np.int32) #[10000]\n",
    "        \n",
    "        # 測試後門的標記\n",
    "        self.dirty_test_label = np.zeros(shape=(10000)) #[10000]\n",
    "        \n",
    "        self.num_train_data, self.num_test_data = self.train_data.shape[0], self.test_data.shape[0]\n",
    "        \n",
    "    def get_batch(self, batch_size):\n",
    "        # 從資料集中隨機存取batch_size個元素return\n",
    "        # index為存放的要挑選的index(一維陣列)\n",
    "        index = np.random.randint(0, self.num_train_data, batch_size)\n",
    "        return self.train_data[index, :], self.train_label[index]"
   ]
  },
  {
   "cell_type": "code",
   "execution_count": 12,
   "id": "152d45ae",
   "metadata": {},
   "outputs": [],
   "source": [
    "data_loader = MNISTLoader_2()\n",
    "model = CNN()\n",
    "# 選擇Adam作為優化器\n",
    "optimizer = tf.keras.optimizers.Adam(learning_rate=learning_rate)"
   ]
  },
  {
   "cell_type": "code",
   "execution_count": 13,
   "id": "2570cc6f",
   "metadata": {},
   "outputs": [],
   "source": [
    "# 從data loader中隨機取一批訓練資料\n",
    "# num_batches為batches的數量\n",
    "num_batches = int(data_loader.num_train_data // batch_size * num_epochs)\n",
    "# Epoch這是指當所有資料都被用來訓練類神經網路一次\n",
    "for batch_index in range(num_batches):\n",
    "    X, y = data_loader.get_batch(batch_size)\n",
    "    with tf.GradientTape() as tape:\n",
    "        y_pred = model(X)\n",
    "        loss = tf.keras.losses.sparse_categorical_crossentropy(y_true=y, y_pred=y_pred)\n",
    "        loss = tf.reduce_mean(loss)\n",
    "        #print(f\"batch {batch_index}: loss {loss.numpy()}\")\n",
    "    grads = tape.gradient(loss, model.variables)\n",
    "    optimizer.apply_gradients(grads_and_vars=zip(grads, model.variables))"
   ]
  },
  {
   "cell_type": "code",
   "execution_count": 14,
   "id": "e1fc4d26",
   "metadata": {},
   "outputs": [
    {
     "name": "stdout",
     "output_type": "stream",
     "text": [
      "test accuracy: 0.9891999959945679\n"
     ]
    }
   ],
   "source": [
    "# 測對正常input的準確率\n",
    "sparse_catgorical_accuracy3 = tf.keras.metrics.SparseCategoricalAccuracy()\n",
    "num_batches = int(data_loader.num_test_data // batch_size)\n",
    "for batch_index in range(num_batches):\n",
    "    start_index, end_index = batch_index * batch_size, (batch_index + 1) * batch_size\n",
    "    y_pred = model.predict(data_loader.test_data[start_index: end_index])\n",
    "    sparse_catgorical_accuracy3.update_state(y_true=data_loader.test_label[start_index: end_index], y_pred=y_pred)\n",
    "print(f\"test accuracy: {sparse_catgorical_accuracy3.result()}\")"
   ]
  },
  {
   "cell_type": "code",
   "execution_count": 15,
   "id": "8e340008",
   "metadata": {},
   "outputs": [
    {
     "name": "stdout",
     "output_type": "stream",
     "text": [
      "test accuracy: 0.9998999834060669\n"
     ]
    }
   ],
   "source": [
    "# 測對有後門的input的準確率\n",
    "sparse_catgorical_accuracy4 = tf.keras.metrics.SparseCategoricalAccuracy()\n",
    "num_batches = int(data_loader.num_test_data // batch_size)\n",
    "for batch_index in range(num_batches):\n",
    "    start_index, end_index = batch_index * batch_size, (batch_index + 1) * batch_size\n",
    "    y_pred = model.predict(data_loader.dirty_test_data[start_index: end_index])\n",
    "    sparse_catgorical_accuracy4.update_state(y_true=data_loader.dirty_test_label[start_index: end_index], y_pred=y_pred)\n",
    "print(f\"test accuracy: {sparse_catgorical_accuracy4.result()}\")"
   ]
  },
  {
   "cell_type": "markdown",
   "id": "44014671",
   "metadata": {},
   "source": [
    "### 結果\n",
    "* 訓練資料 = 60000乾淨的資料 ＋ 20000含後門的資料 (後門佔25%)\n",
    "* 對 **乾淨** 測試資料的準確度: **0.9914000630378723**\n",
    "    * 同一個模型架構，單純用60000乾淨的資料訓練的準確度： 0.9884000420570374\n",
    "* **後門成功觸發率**: **0.9971333742141724**"
   ]
  },
  {
   "cell_type": "code",
   "execution_count": 16,
   "id": "f14aacaa",
   "metadata": {},
   "outputs": [
    {
     "data": {
      "image/png": "[encoded data removed]",
      "text/plain": [
       "<Figure size 200x200 with 1 Axes>"
      ]
     },
     "metadata": {},
     "output_type": "display_data"
    }
   ],
   "source": [
    "plot_image(data_loader.dirty_test_data[100])"
   ]
  },
  {
   "cell_type": "code",
   "execution_count": 17,
   "id": "5a8a52f7",
   "metadata": {},
   "outputs": [],
   "source": [
    "test = np.expand_dims(data_loader.dirty_test_data[100], axis=0)"
   ]
  },
  {
   "cell_type": "code",
   "execution_count": 18,
   "id": "99357c7f",
   "metadata": {},
   "outputs": [
    {
     "name": "stdout",
     "output_type": "stream",
     "text": [
      "[[1.0000000e+00 1.5924181e-34 0.0000000e+00 0.0000000e+00 0.0000000e+00\n",
      "  3.0689847e-35 8.4212999e-22 0.0000000e+00 3.5423069e-30 0.0000000e+00]]\n"
     ]
    }
   ],
   "source": [
    "y = model.predict(test)\n",
    "print(y)"
   ]
  },
  {
   "cell_type": "code",
   "execution_count": 19,
   "id": "f9216fbf",
   "metadata": {},
   "outputs": [
    {
     "name": "stdout",
     "output_type": "stream",
     "text": [
      "[7 2 1 ... 4 5 6]\n"
     ]
    }
   ],
   "source": [
    "print(data_loader.test_label)"
   ]
  },
  {
   "cell_type": "code",
   "execution_count": 20,
   "id": "2c08f42d",
   "metadata": {},
   "outputs": [
    {
     "data": {
      "image/png": "[encoded data removed]",
      "text/plain": [
       "<Figure size 200x200 with 1 Axes>"
      ]
     },
     "metadata": {},
     "output_type": "display_data"
    }
   ],
   "source": [
    "plot_image(data_loader.test_data[0])"
   ]
  },
  {
   "cell_type": "code",
   "execution_count": null,
   "id": "78678324",
   "metadata": {},
   "outputs": [],
   "source": []
  }
 ],
 "metadata": {
  "kernelspec": {
   "display_name": "Python 3 (ipykernel)",
   "language": "python",
   "name": "python3"
  },
  "language_info": {
   "codemirror_mode": {
    "name": "ipython",
    "version": 3
   },
   "file_extension": ".py",
   "mimetype": "text/x-python",
   "name": "python",
   "nbconvert_exporter": "python",
   "pygments_lexer": "ipython3",
   "version": "3.8.16"
  }
 },
 "nbformat": 4,
 "nbformat_minor": 5
}
