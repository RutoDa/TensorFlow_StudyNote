{
 "cells": [
  {
   "cell_type": "code",
   "execution_count": 2,
   "id": "ae9d6aea",
   "metadata": {},
   "outputs": [],
   "source": [
    "import numpy as np\n",
    "import tensorflow as tf"
   ]
  },
  {
   "cell_type": "code",
   "execution_count": 3,
   "id": "7c5b114e",
   "metadata": {},
   "outputs": [],
   "source": [
    "class MNISTLoader():\n",
    "    def __init__(self):\n",
    "        mnist = tf.keras.datasets.mnist\n",
    "        (self.train_data, self.train_label), (self.test_data, self.test_label) = mnist.load_data()\n",
    "        # train_data.shape = (60000, 28, 28): 60000個28x28的input\n",
    "        # 將像素都坐正規化，並且增加一個維度存放channel數量(1,因為為灰階)\n",
    "        # 用astype()轉型\n",
    "        self.train_data = np.expand_dims(self.train_data.astype(np.float32)/255.0, axis=-1) #[60000,28,28,1]\n",
    "        self.test_data = np.expand_dims(self.test_data.astype(np.float32)/255.0, axis=-1) #[10000,28,28,1]\n",
    "        self.train_label = self.train_label.astype(np.int32) #[60000]\n",
    "        self.test_label = self.test_label.astype(np.int32) #[10000]\n",
    "        self.num_train_data, self.num_test_data = self.train_data.shape[0], self.test_data.shape[0]\n",
    "        \n",
    "    def get_batch(self, batch_size):\n",
    "        # 從資料集中隨機存取batch_size個元素return\n",
    "        # index為存放的要挑選的index(一維陣列)\n",
    "        index = np.random.randint(0, self.num_train_data, batch_size)\n",
    "        return self.train_data[index, :], self.train_label[index]"
   ]
  },
  {
   "cell_type": "code",
   "execution_count": 25,
   "id": "8bec3c67",
   "metadata": {},
   "outputs": [],
   "source": [
    "import matplotlib.pyplot as plt\n",
    "def plot_image(image):\n",
    "    \"\"\"輸出圖片\"\"\"\n",
    "    fig = plt.gcf() #得到當前的 figure\n",
    "    fig.set_size_inches(2, 2) \n",
    "    plt.imshow(image, cmap=\"gray\")\n",
    "    plt.show()"
   ]
  },
  {
   "cell_type": "code",
   "execution_count": 4,
   "id": "3f817a20",
   "metadata": {},
   "outputs": [],
   "source": [
    "data = MNISTLoader()"
   ]
  },
  {
   "cell_type": "code",
   "execution_count": 36,
   "id": "c02ff817",
   "metadata": {},
   "outputs": [],
   "source": [
    "x = data.train_data[0:10000, :, :, :].copy()\n",
    "y = data.train_data.copy()"
   ]
  },
  {
   "cell_type": "code",
   "execution_count": 37,
   "id": "afd5b245",
   "metadata": {},
   "outputs": [
    {
     "name": "stdout",
     "output_type": "stream",
     "text": [
      "(60000, 28, 28, 1)\n",
      "(10000, 28, 28, 1)\n"
     ]
    }
   ],
   "source": [
    "print(data.train_data.shape)\n",
    "print(x.shape)"
   ]
  },
  {
   "cell_type": "code",
   "execution_count": 38,
   "id": "1bde2c97",
   "metadata": {},
   "outputs": [
    {
     "name": "stdout",
     "output_type": "stream",
     "text": [
      "tf.Tensor(0.0, shape=(), dtype=float32)\n"
     ]
    }
   ],
   "source": [
    "print(tf.reduce_sum(data.train_data[:,26,26,0]))"
   ]
  },
  {
   "cell_type": "code",
   "execution_count": 39,
   "id": "30153ce7",
   "metadata": {},
   "outputs": [
    {
     "name": "stdout",
     "output_type": "stream",
     "text": [
      "[0. 0. 0. ... 0. 0. 0.]\n"
     ]
    }
   ],
   "source": [
    "print(x[:, 26, 26, 0])"
   ]
  },
  {
   "cell_type": "code",
   "execution_count": 40,
   "id": "c83a6b75",
   "metadata": {},
   "outputs": [],
   "source": [
    "x[:, 26, 26, 0] = np.ones(shape=(10000))"
   ]
  },
  {
   "cell_type": "code",
   "execution_count": 41,
   "id": "19246f60",
   "metadata": {},
   "outputs": [
    {
     "name": "stdout",
     "output_type": "stream",
     "text": [
      "tf.Tensor(1.0, shape=(), dtype=float32)\n"
     ]
    }
   ],
   "source": [
    "print(tf.reduce_mean(x[:,26,26,0]))"
   ]
  },
  {
   "cell_type": "code",
   "execution_count": 42,
   "id": "2846a043",
   "metadata": {},
   "outputs": [
    {
     "data": {
      "image/png": "[encoded data removed]",
      "text/plain": [
       "<Figure size 200x200 with 1 Axes>"
      ]
     },
     "metadata": {},
     "output_type": "display_data"
    }
   ],
   "source": [
    "plot_image(data.train_data[0])"
   ]
  },
  {
   "cell_type": "code",
   "execution_count": 43,
   "id": "de50c674",
   "metadata": {},
   "outputs": [
    {
     "data": {
      "image/png": "[encoded data removed]",
      "text/plain": [
       "<Figure size 200x200 with 1 Axes>"
      ]
     },
     "metadata": {},
     "output_type": "display_data"
    }
   ],
   "source": [
    "plot_image(x[0])"
   ]
  },
  {
   "cell_type": "code",
   "execution_count": 44,
   "id": "9cf79bf7",
   "metadata": {},
   "outputs": [
    {
     "data": {
      "image/png": "[encoded data removed]",
      "text/plain": [
       "<Figure size 200x200 with 1 Axes>"
      ]
     },
     "metadata": {},
     "output_type": "display_data"
    }
   ],
   "source": [
    "plot_image(data.train_data[1000])"
   ]
  },
  {
   "cell_type": "code",
   "execution_count": 45,
   "id": "2eb463c6",
   "metadata": {},
   "outputs": [
    {
     "data": {
      "image/png": "[encoded data removed]",
      "text/plain": [
       "<Figure size 200x200 with 1 Axes>"
      ]
     },
     "metadata": {},
     "output_type": "display_data"
    }
   ],
   "source": [
    "plot_image(x[1000])"
   ]
  },
  {
   "cell_type": "code",
   "execution_count": 46,
   "id": "7ff72a99",
   "metadata": {},
   "outputs": [],
   "source": [
    "z = np.concatenate((y,x), axis=0)"
   ]
  },
  {
   "cell_type": "code",
   "execution_count": 50,
   "id": "002ddec6",
   "metadata": {},
   "outputs": [
    {
     "data": {
      "image/png": "[encoded data removed]",
      "text/plain": [
       "<Figure size 200x200 with 1 Axes>"
      ]
     },
     "metadata": {},
     "output_type": "display_data"
    },
    {
     "data": {
      "image/png": "[encoded data removed]",
      "text/plain": [
       "<Figure size 200x200 with 1 Axes>"
      ]
     },
     "metadata": {},
     "output_type": "display_data"
    }
   ],
   "source": [
    "plot_image(z[1000])\n",
    "plot_image(z[61000])"
   ]
  },
  {
   "cell_type": "code",
   "execution_count": null,
   "id": "283a14bb",
   "metadata": {},
   "outputs": [],
   "source": []
  }
 ],
 "metadata": {
  "kernelspec": {
   "display_name": "Python 3.10 (tensorflow)",
   "language": "python",
   "name": "tensorflow"
  },
  "language_info": {
   "codemirror_mode": {
    "name": "ipython",
    "version": 3
   },
   "file_extension": ".py",
   "mimetype": "text/x-python",
   "name": "python",
   "nbconvert_exporter": "python",
   "pygments_lexer": "ipython3",
   "version": "3.10.10"
  }
 },
 "nbformat": 4,
 "nbformat_minor": 5
}
